{
 "cells": [
  {
   "cell_type": "code",
   "execution_count": 1,
   "id": "c33abdbf-5f26-4ca8-b4e9-42f3a8081216",
   "metadata": {
    "tags": []
   },
   "outputs": [],
   "source": [
    "import os\n",
    "import sys\n",
    "from os.path import join as pj\n",
    "from os.path import exists\n",
    "import subprocess\n",
    "from copy import deepcopy\n",
    "from IPython import get_ipython\n",
    "from astropy.io import fits\n",
    "\n",
    "import pandas as pd\n",
    "import numpy as np"
   ]
  },
  {
   "cell_type": "code",
   "execution_count": 2,
   "id": "c3b083ee-0138-48d5-ab25-c1aeac073ce8",
   "metadata": {
    "tags": []
   },
   "outputs": [],
   "source": [
    "# For debugging purposes\n",
    "from IPython import get_ipython\n",
    "def in_notebook():\n",
    "    ip = get_ipython()\n",
    "    \n",
    "    if ip:\n",
    "        return True\n",
    "    else:\n",
    "        return False"
   ]
  },
  {
   "cell_type": "code",
   "execution_count": 3,
   "id": "8052c51b-87af-4e66-b267-d781872048e6",
   "metadata": {
    "tags": []
   },
   "outputs": [],
   "source": [
    "_HOME_DIR = os.path.expanduser(\"~\")\n",
    "if in_notebook():\n",
    "    _SPARCFIRE_DIR = pj(_HOME_DIR, \"sparcfire_matt\") \n",
    "    _MODULE_DIR    = pj(_SPARCFIRE_DIR, \"GalfitModule\")\n",
    "else:\n",
    "    try:\n",
    "        _SPARCFIRE_DIR = os.environ[\"SPARCFIRE_HOME\"]\n",
    "        _MODULE_DIR = pj(_SPARCFIRE_DIR, \"GalfitModule\")\n",
    "    except KeyError:\n",
    "        if __name__ == \"__main__\":\n",
    "            print(\"SPARCFIRE_HOME is not set. Please run 'setup.bash' inside SpArcFiRe directory if not done so already.\")\n",
    "            print(\"Checking the current directory for GalfitModule, otherwise quitting.\")\n",
    "            \n",
    "        _MODULE_DIR = pj(os.getcwd(), \"GalfitModule\")\n",
    "        \n",
    "        if not exists(_MODULE_DIR):\n",
    "            raise Exception(\"Could not find GalfitModule!\")\n",
    "\n",
    "sys.path.append(_MODULE_DIR)\n",
    "\n",
    "from Functions.helper_functions import *"
   ]
  },
  {
   "cell_type": "code",
   "execution_count": 4,
   "id": "e7a88fd3-05d5-43ce-8d6a-f977ce1bfca2",
   "metadata": {},
   "outputs": [],
   "source": [
    "class BaseParameter():\n",
    "    def __init__(self, value, **kwargs):\n",
    "        \n",
    "        self.value            = value\n",
    "        self.fix_value        = kwargs.get(\"fix_value\", 1)\n",
    "        self.name             = kwargs.get(\"name\", \"\")\n",
    "        self.parameter_number = kwargs.get(\"parameter_number\", \"#\")\n",
    "        self.comment          = kwargs.get(\"comment\", \"\")\n",
    "        \n",
    "        # Not sure if I'll need these but keeping them in for now\n",
    "        self.component_name   = kwargs.get(\"component_name\", \"\")\n",
    "        self.component_number = kwargs.get(\"component_number\", \"\")\n",
    "        \n",
    "# ==========================================================================================================\n",
    "\n",
    "    # Formerly __str__\n",
    "    # def __str__(self):\n",
    "    #     return f\"{self.value}\"\n",
    "\n",
    "    # Formerly __repr__\n",
    "    def __str__(self):\n",
    "        pre_comment = f\"{self.parameter_number:>2}) {self.value:<11} {self.fix_value}\"\n",
    "        return f\"{pre_comment:<23} # {self.comment}\"\n",
    "          \n",
    "# ==========================================================================================================\n",
    "\n",
    "    # def update_values(self, **kwargs):\n",
    "    #     for key, value in kwargs.items():\n",
    "    #         setattr(self, key, value)\n",
    "        \n",
    "# ==========================================================================================================\n",
    "\n",
    "#     def from_pandas(self, input_df):\n",
    "#         param_names  = [n.split(f\"_{self.component_type}\")[0] for n in input_df.columns]\n",
    "#         param_values = input_df.iloc[0].values.astype(float)\n",
    "#         new_param_dict = dict(zip(param_names, param_values))\n",
    "        \n",
    "#         pos = \"position\"\n",
    "#         if pos in self.param_values:\n",
    "#             new_param_dict[pos] = (new_param_dict[f\"{pos}_x\"], new_param_dict[f\"{pos}_y\"])\n",
    "#             new_param_dict.pop(f\"{pos}_x\")\n",
    "#             new_param_dict.pop(f\"{pos}_y\")\n",
    "        \n",
    "#         # No graceful way to do this...\n",
    "#         # TODO: Can this be used for bending modes as well?\n",
    "#         if self.component_type in (\"fourier\"):\n",
    "#             f_modes = set([pn.split(\"_\")[0] for pn in param_names])\n",
    "#             a   = \"amplitude\"\n",
    "#             pha = \"phase_angle\"\n",
    "            \n",
    "#             for mode in f_modes:\n",
    "#                 new_param_dict[mode] = (new_param_dict[f\"{mode}_{a}\"], new_param_dict[f\"{mode}_{pha}\"])\n",
    "#                 new_param_dict.pop(f\"{mode}_{a}\")\n",
    "#                 new_param_dict.pop(f\"{mode}_{pha}\")\n",
    "        \n",
    "#         self.param_values.update(new_param_dict)\n",
    "#         self.update_values()\n",
    "\n",
    "# # ==========================================================================================================\n",
    "\n",
    "#     def to_pandas(self):\n",
    "#         name = f\"{self.component_type}_{self.component_number}\"\n",
    "#         param_values = deepcopy(self.param_values)\n",
    "        \n",
    "        \n",
    "#         if \"Component type\" in param_values:\n",
    "#             param_values.pop(\"Component type\")\n",
    "            \n",
    "#         multi_valued = [(k,v) for k,v in param_values.items() if isinstance(v, tuple)]\n",
    "        \n",
    "#         if multi_valued:\n",
    "#             # For components which contain multi values, i.e. position\n",
    "#             tuple_names = {\"sersic\"  : (\"x\",\"y\"),\n",
    "#                            \"fourier\" : (\"amplitude\", \"phase_angle\")}\n",
    "            \n",
    "#             # Usually only two but to keep things generic we can loop\n",
    "#             for tup in multi_valued:\n",
    "#                 tup_value = param_values.pop(tup[0])\n",
    "                \n",
    "#                 for i, val in enumerate(tup_value):\n",
    "#                     param_values[f\"{tup[0]}_{tuple_names[self.component_type][i]}\"] = val\n",
    "        \n",
    "#         param_names  = [f\"{i}_{name}\" for i in param_values.keys()]\n",
    "#         param_values = np.array(list(param_values.values()))\n",
    "#         param_values = param_values.reshape(1, len(param_values))\n",
    "        \n",
    "#         # Redundancy in index name and column names is intentional!\n",
    "#         all_data = pd.DataFrame(param_values, \n",
    "#                                 index = [name], \n",
    "#                                 columns = param_names,\n",
    "#                                 dtype = np.float32)\n",
    "        \n",
    "#         return all_data\n",
    "\n",
    "# =========================================================================================================="
   ]
  },
  {
   "cell_type": "code",
   "execution_count": 14,
   "id": "cde0c3cb-aba7-4365-ae4d-803b6af898f9",
   "metadata": {
    "tags": []
   },
   "outputs": [],
   "source": [
    "class HeaderParameter(BaseParameter, str):\n",
    "    def __new__(cls, value = \"\", **kwargs):    \n",
    "        return super(HeaderParameter, cls).__new__(cls, value)\n",
    "    \n",
    "    def __init__(self, value, **kwargs):\n",
    "        BaseParameter.__init__(self, value, **kwargs)\n",
    "    \n",
    "        self.fix_value = \"\""
   ]
  },
  {
   "cell_type": "code",
   "execution_count": 15,
   "id": "f3a7580f-c345-4dd1-99b3-34c48806adfc",
   "metadata": {
    "tags": []
   },
   "outputs": [],
   "source": [
    "class NumParameter(BaseParameter, float):\n",
    "    def __new__(cls, value = 0, **kwargs):    \n",
    "        return super(NumParameter, cls).__new__(cls, value)\n",
    "    \n",
    "    def __init__(self, value, **kwargs):\n",
    "        \n",
    "        BaseParameter.__init__(self, value, **kwargs)\n",
    "        \n",
    "        self.value = round(self.value, 4)\n",
    "        \n",
    "#         self.fix_value        = kwargs.get(\"fix_value\", 0)\n",
    "#         self.name             = kwargs.get(\"name\", \"\")\n",
    "#         self.parameter_number = kwargs.get(\"parameter_number\", \"#\")\n",
    "#         self.comment          = kwargs.get(\"comment\", \"\")\n",
    "        \n",
    "#         # Not sure if I'll need these but keeping them in for now\n",
    "#         self.component_name   = kwargs.get(\"component_name\", \"\")\n",
    "#         self.component_number = kwargs.get(\"component_number\", \"\")\n",
    "        \n",
    "# ==========================================================================================================\n",
    "\n",
    "    # Formerly __str__\n",
    "    # def __str__(self):\n",
    "    #     return f\"{self.value}\"\n",
    "\n",
    "    # Formerly __repr__\n",
    "    # def __str__(self):\n",
    "    #     return f\"{self.parameter_number:>2}) {self.value:<11.4f} {self.fix_value:<10d} #  {self.comment}\"\n",
    "    \n",
    "# =========================================================================================================="
   ]
  },
  {
   "cell_type": "code",
   "execution_count": 16,
   "id": "89dc10ab-b258-4ae8-a713-08550e3ced9a",
   "metadata": {
    "tags": []
   },
   "outputs": [],
   "source": [
    "class ComponentType(BaseParameter, str):\n",
    "    def __new__(cls, name, **kwargs):    \n",
    "        return super(ComponentType, cls).__new__(cls, name)\n",
    "    \n",
    "    def __init__(self, name, **kwargs):\n",
    "        \n",
    "        BaseParameter.__init__(self, name, **kwargs)\n",
    "        self.fix_value = \"\"\n",
    "        self.parameter_number = kwargs.get(\"parameter_number\", 0)\n",
    "        \n",
    "        # self.value            = value\n",
    "        self.comment          = \"Component type\"\n",
    "        # self.component_number = kwargs.get(\"component_number\", 0)\n",
    "        \n",
    "    # def __str__(self):\n",
    "    #     empty_str = \"\"\n",
    "    #     return f\"{self.parameter_number:>2}) {self.name:<11} {empty_str:<10} #  {self.comment}\""
   ]
  },
  {
   "cell_type": "code",
   "execution_count": 17,
   "id": "7f9d269b-772a-466c-bb81-dea54efadf02",
   "metadata": {
    "tags": []
   },
   "outputs": [],
   "source": [
    "class MultiParameter(BaseParameter):\n",
    "    def __init__(self, value = (0,0), **kwargs):\n",
    "        \n",
    "        # Generically use x and y\n",
    "        if len(value) == 2:\n",
    "            self.x = float(kwargs.get(\"x\", value[0]))\n",
    "            x_str = f\"{self.x:.4f}\"\n",
    "            \n",
    "            self.y = float(kwargs.get(\"y\", value[1]))\n",
    "            y_str = f\"{self.y:.4f}\"\n",
    "\n",
    "            if self.x == int(self.x):\n",
    "                x_str = f\"{self.x:.0f}\"\n",
    "                \n",
    "            if self.y == int(self.y):\n",
    "                y_str = f\"{self.y:.0f}\"\n",
    "                \n",
    "            value_str  = f\"{x_str} {y_str}\"\n",
    "            self.value = (self.x, self.y)\n",
    "            \n",
    "        elif len(value) == 4:\n",
    "            self.xmin = int(kwargs.get(\"xmin\", value[0]))\n",
    "            self.xmax = int(kwargs.get(\"xmax\", value[1]))\n",
    "            self.ymin = int(kwargs.get(\"ymin\", value[2]))\n",
    "            self.ymax = int(kwargs.get(\"ymax\", value[3]))\n",
    "\n",
    "            value_str  = f\"{self.xmin}   {self.xmax}   {self.ymin}   {self.ymax}\"\n",
    "            self.value = (self.xmin, self.xmax, self.ymin, self.ymax)\n",
    "            \n",
    "        BaseParameter.__init__(self, value_str, **kwargs)\n",
    "    \n",
    "        self.fix_value        = \"\"\n",
    "        self.fix_x            = \"\"\n",
    "        self.fix_y            = \"\""
   ]
  },
  {
   "cell_type": "code",
   "execution_count": 18,
   "id": "5a42ab13-dc1c-4a36-93f8-17ed9477c8bf",
   "metadata": {
    "tags": []
   },
   "outputs": [],
   "source": [
    "class Position(MultiParameter):\n",
    "    def __init__(self, value = (0,0), **kwargs):\n",
    "        \n",
    "        MultiParameter.__init__(self, value, **kwargs)\n",
    "    \n",
    "        self.name             = \"position\"\n",
    "        self.parameter_number = 1\n",
    "        self.comment          = \"Position x, y\"\n",
    "        self.fix_value        = kwargs.get(\"fix_value\", \"0 0\")\n",
    "        self.fix_x            = self.fix_value[0]\n",
    "        self.fix_y            = self.fix_value[-1]"
   ]
  },
  {
   "cell_type": "code",
   "execution_count": 19,
   "id": "84997dd5-4aa8-41d5-a92a-6db8bf514eb5",
   "metadata": {
    "tags": []
   },
   "outputs": [],
   "source": [
    "class FourierMode(BaseParameter):\n",
    "    def __init__(self, mode, amplitude = 0, phase_angle = 0, **kwargs):\n",
    "        \n",
    "        self.mode        = mode\n",
    "        \n",
    "        self.amplitude   = amplitude\n",
    "        self.phase_angle = phase_angle\n",
    "        \n",
    "        if isinstance(amplitude, tuple):\n",
    "            self.amplitude   = amplitude[0]\n",
    "            self.phase_angle = amplitude[1]\n",
    "            \n",
    "        value_str  = f\"{self.amplitude} {self.phase_angle}\"\n",
    "        self.value = f\"{value_str:<11}\"\n",
    "        \n",
    "        BaseParameter.__init__(self, self.value, **kwargs)\n",
    "    \n",
    "        self.name             = \"position\"\n",
    "        self.parameter_number = f\"F{self.mode}\"\n",
    "        self.comment         = f\"Azim. Fourier mode {self.mode}, amplitude, & phase angle\"\n",
    "        self.fix_value       = kwargs.get(\"fix_value\", \"1 1\")\n",
    "        self.fix_amplitude   = self.fix_value[0]\n",
    "        self.fix_phase_angle = self.fix_value[-1]"
   ]
  },
  {
   "cell_type": "code",
   "execution_count": 24,
   "id": "fba20014-7800-4e43-a3ed-c379ed2e0edf",
   "metadata": {
    "tags": []
   },
   "outputs": [],
   "source": [
    "#class BendingModes(BaseParameter, float):\n",
    "class BendingMode(NumParameter):\n",
    "    def __init__(self, mode, amplitude, **kwargs):\n",
    "        \n",
    "        self.mode        = mode\n",
    "        self.amplitude   = amplitude\n",
    "        self.value       = amplitude\n",
    "        \n",
    "        NumParameter.__init__(self, self.value, **kwargs)\n",
    "    \n",
    "        self.name             = \"bending mode\"\n",
    "        self.parameter_number = f\"B{self.mode}\"\n",
    "        self.comment         = f\"Bending mode {self.mode} amplitude\""
   ]
  },
  {
   "cell_type": "code",
   "execution_count": 25,
   "id": "2637d646-b10f-43f9-8683-5d3ec53e0bc0",
   "metadata": {},
   "outputs": [],
   "source": [
    "class ImageRegionToFit(MultiParameter, HeaderParameter):\n",
    "    def __init__(self, value = (0, 256, 0, 256), **kwargs):\n",
    "        \n",
    "        HeaderParameter.__init__(self, value, **kwargs)\n",
    "        MultiParameter.__init__(self, value, **kwargs)\n",
    "        \n",
    "        self.fix_value = \"\"\n",
    "        self.parameter_number = \"H\"\n",
    "        self.comment = \"Image region to fit (xmin xmax ymin ymax)\"\n",
    "\n",
    "# Redundant because I may use different naming conventions elsewhere\n",
    "class CropRegion(ImageRegionToFit):\n",
    "    def __init__(self, *values, **kwargs):\n",
    "        ImageRegionToFit.__init__(self, *values, **kwargs)"
   ]
  },
  {
   "cell_type": "code",
   "execution_count": 26,
   "id": "757de919-65b6-402d-b5e1-55837bc70c6a",
   "metadata": {
    "tags": []
   },
   "outputs": [
    {
     "name": "stdout",
     "output_type": "stream",
     "text": [
      " H) 0   100   0   100   # Image region to fit (xmin xmax ymin ymax)\n",
      " H) 45   145   45   145  # Image region to fit (xmin xmax ymin ymax)\n"
     ]
    }
   ],
   "source": [
    "if __name__ == \"__main__\":\n",
    "    crop_region = ImageRegionToFit(\n",
    "        (0, 100, 0, 100)\n",
    "    )\n",
    "    \n",
    "    print(crop_region)\n",
    "    \n",
    "    crop_region = CropRegion(\n",
    "        (45, 145, 45, 145)\n",
    "    )\n",
    "    \n",
    "    print(crop_region)"
   ]
  },
  {
   "cell_type": "code",
   "execution_count": 27,
   "id": "7610c6cf-ea8e-4cdf-bb25-3ee1a5cd3c11",
   "metadata": {
    "tags": []
   },
   "outputs": [],
   "source": [
    "class ConvolutionBox(MultiParameter, HeaderParameter):\n",
    "    def __init__(self, value = (50, 50), **kwargs):\n",
    "        \n",
    "        HeaderParameter.__init__(self, value, **kwargs)\n",
    "        MultiParameter.__init__(self, value, **kwargs)\n",
    "        \n",
    "        self.fix_value = \"\"\n",
    "        self.parameter_number = \"I\"\n",
    "        self.comment = \"Size of the convolution box (x y)\""
   ]
  },
  {
   "cell_type": "code",
   "execution_count": 28,
   "id": "2504449f-d346-4832-a57e-ab85226c90d1",
   "metadata": {
    "tags": []
   },
   "outputs": [],
   "source": [
    "class PlateScale(MultiParameter, HeaderParameter):\n",
    "    def __init__(self, value = (0.396, 0.396), **kwargs):\n",
    "        HeaderParameter.__init__(self, value, **kwargs)\n",
    "        MultiParameter.__init__(self, value, **kwargs)\n",
    "        \n",
    "        self.dx = self.x\n",
    "        self.dy = self.y\n",
    "        \n",
    "        self.fix_value = \"\"\n",
    "        self.parameter_number = \"K\"\n",
    "        self.comment = \"Plate scale (dx dy)   [arcsec per pixel]\""
   ]
  },
  {
   "cell_type": "code",
   "execution_count": 29,
   "id": "84993f94-65b5-4efa-8ce4-4a1b5d3d9294",
   "metadata": {
    "tags": []
   },
   "outputs": [
    {
     "name": "stdout",
     "output_type": "stream",
     "text": [
      " I) 100 100             # Size of the convolution box (x y)\n",
      " K) 0.3960 0.3960       # Plate scale (dx dy)   [arcsec per pixel]\n"
     ]
    }
   ],
   "source": [
    "if __name__ == \"__main__\":\n",
    "    conv_box = ConvolutionBox(\n",
    "        (100, 100)\n",
    "    )\n",
    "    \n",
    "    print(conv_box)\n",
    "    \n",
    "    plate_scale = PlateScale(\n",
    "        (0.396, 0.396)\n",
    "    )\n",
    "    \n",
    "    print(plate_scale)"
   ]
  },
  {
   "cell_type": "code",
   "execution_count": 30,
   "id": "345c71ef-476c-47e3-addc-1978b03ed19d",
   "metadata": {
    "tags": []
   },
   "outputs": [],
   "source": [
    "# if __name__ == \"__main__\":\n",
    "#     from RegTest.RegTest import *"
   ]
  },
  {
   "cell_type": "code",
   "execution_count": 31,
   "id": "2868e37e-4599-42b3-a061-64885ba66b44",
   "metadata": {
    "tags": []
   },
   "outputs": [
    {
     "name": "stdout",
     "output_type": "stream",
     "text": [
      " 0) sersic              # Component type\n",
      " 0) sersic              # Component type\n",
      "R0) power               # Component type\n",
      " 0) sky                 # Component type\n"
     ]
    }
   ],
   "source": [
    "if __name__ == \"__main__\":\n",
    "    bulge_line = ComponentType(\"sersic\", component_number = 1)\n",
    "    disk_line  = ComponentType(\"sersic\", component_number = 2)\n",
    "    arms_line  = ComponentType(\"power\", parameter_number = \"R0\")\n",
    "    sky_line   = ComponentType(\"sky\", component_number = 3)\n",
    "\n",
    "    print(bulge_line)\n",
    "    print(disk_line)\n",
    "    print(arms_line)\n",
    "    print(sky_line)"
   ]
  },
  {
   "cell_type": "code",
   "execution_count": 32,
   "id": "0ef3ff37-3a63-466f-905e-baedc839f590",
   "metadata": {
    "tags": []
   },
   "outputs": [
    {
     "name": "stdout",
     "output_type": "stream",
     "text": [
      " 1) 100 100     0 0     # Position x, y\n",
      " 1) 101 101     0 0     # Position x, y\n"
     ]
    }
   ],
   "source": [
    "if __name__ == \"__main__\":\n",
    "    position = Position(\n",
    "        (100, 100),\n",
    "        component_name = \"Sersic\",\n",
    "        component_number = 1\n",
    "    )\n",
    "    \n",
    "    print(position)\n",
    "    \n",
    "    position = Position(\n",
    "        x = 101,\n",
    "        y = 101,\n",
    "        component_name = \"Sersic\",\n",
    "        component_number = 1\n",
    "    )\n",
    "    \n",
    "    print(position)"
   ]
  },
  {
   "cell_type": "code",
   "execution_count": 33,
   "id": "e7d3a23f-5ee2-45a6-98f8-3cebb61cdb9d",
   "metadata": {
    "tags": []
   },
   "outputs": [
    {
     "name": "stdout",
     "output_type": "stream",
     "text": [
      " 3) 16          1       # Integrated magnitude\n",
      "32.0\n"
     ]
    }
   ],
   "source": [
    "if __name__ == \"__main__\":\n",
    "    magnitude = NumParameter(\n",
    "        16,\n",
    "        name = \"magnitude\",\n",
    "        parameter_number = 3,\n",
    "        comment = \"Integrated magnitude\",\n",
    "        component_name = \"Sersic\",\n",
    "        component_number = 1\n",
    "    )\n",
    "    \n",
    "    print(magnitude)\n",
    "    print(magnitude + magnitude)"
   ]
  },
  {
   "cell_type": "code",
   "execution_count": 34,
   "id": "77ddfb58-45c6-4b30-af3e-85fa38d0cc42",
   "metadata": {
    "tags": []
   },
   "outputs": [
    {
     "name": "stdout",
     "output_type": "stream",
     "text": [
      "F1) 0.001 45    1 1     # Azim. Fourier mode 1, amplitude, & phase angle\n",
      "F3) 0.002 46    1 1     # Azim. Fourier mode 3, amplitude, & phase angle\n"
     ]
    }
   ],
   "source": [
    "if __name__ == \"__main__\":\n",
    "    fourier1 = FourierMode(\n",
    "        mode = 1,\n",
    "        amplitude = 0.001, \n",
    "        phase_angle = 45,\n",
    "        component_name = \"Fourier\"\n",
    "    )\n",
    "    \n",
    "    print(fourier1)\n",
    "    \n",
    "    fourier3 = FourierMode(\n",
    "        3,\n",
    "        (0.002, 46),\n",
    "        component_name = \"Fourier\"\n",
    "    )\n",
    "    \n",
    "    print(fourier3)"
   ]
  },
  {
   "cell_type": "code",
   "execution_count": 35,
   "id": "929c9297-bc1b-41c7-bc1c-4ce5bc6df154",
   "metadata": {
    "tags": []
   },
   "outputs": [
    {
     "name": "stdout",
     "output_type": "stream",
     "text": [
      "B2) 1.002       1       # Bending mode 2 amplitude\n",
      "B3) 1.003       1       # Bending mode 3 amplitude\n"
     ]
    }
   ],
   "source": [
    "if __name__ == \"__main__\":\n",
    "    bending2 = BendingMode(\n",
    "        mode = 2,\n",
    "        amplitude = 1.002\n",
    "    )\n",
    "    \n",
    "    print(bending2)\n",
    "    \n",
    "    bending3 = BendingMode(\n",
    "        mode = 3,\n",
    "        amplitude = 1.003\n",
    "    )\n",
    "    \n",
    "    print(bending3)"
   ]
  },
  {
   "cell_type": "code",
   "execution_count": 36,
   "id": "da227f7e-f440-4049-8dcb-efaf9eba7c62",
   "metadata": {
    "tags": []
   },
   "outputs": [],
   "source": [
    "# Parameters with defaults for Sersic profile\n",
    "def load_default_sersic_parameters(component_number = None):\n",
    "    sersic_line = ComponentType(\"sersic\", component_number = component_number)\n",
    "    \n",
    "    position = Position(\n",
    "        (100, 100),\n",
    "        component_name = \"Sersic\",\n",
    "        component_number = component_number\n",
    "    )\n",
    "    \n",
    "    magnitude = NumParameter(\n",
    "        16,\n",
    "        name = \"magnitude\",\n",
    "        parameter_number = 3,\n",
    "        comment = \"Integrated magnitude\",\n",
    "        component_name = \"Sersic\",\n",
    "        component_number = component_number\n",
    "    )\n",
    "    \n",
    "    effective_radius = NumParameter(\n",
    "        10,\n",
    "        name = \"effective radius\",\n",
    "        parameter_number = 4,\n",
    "        comment = \"R_e (effective radius)   [pix]\",\n",
    "        component_name = \"Sersic\",\n",
    "        component_number = component_number\n",
    "    )\n",
    "    \n",
    "    sersic_index = NumParameter(\n",
    "        1,\n",
    "        name = \"sersic index\",\n",
    "        parameter_number = 5,\n",
    "        comment = \"Sersic index n (de Vaucouleurs n=4)\",\n",
    "        component_name = \"Sersic\",\n",
    "        component_number = component_number\n",
    "    )\n",
    "    \n",
    "    axis_ratio = NumParameter(\n",
    "        0.5,\n",
    "        name = \"axis ratio\",\n",
    "        parameter_number = 9,\n",
    "        comment = \"Axis ratio (b/a)\",\n",
    "        component_name = \"Sersic\",\n",
    "        component_number = component_number\n",
    "    )\n",
    "    \n",
    "    position_angle = NumParameter(\n",
    "        90,\n",
    "        name = \"position_angle\",\n",
    "        parameter_number = 10,\n",
    "        comment = \"Position angle (PA) [deg: Up=0, Left=90]\",\n",
    "        component_name = \"Sersic\",\n",
    "        component_number = component_number\n",
    "    )\n",
    "    \n",
    "    skip = NumParameter(\n",
    "        0,\n",
    "        name = \"skip\",\n",
    "        parameter_number = \"Z\",\n",
    "        comment = \"Skip this model in output image?  (yes=1, no=0)\",\n",
    "        component_name = \"Sersic\",\n",
    "        component_number = component_number\n",
    "    )\n",
    "    \n",
    "    loc = deepcopy(locals())\n",
    "    loc.pop(\"component_number\")\n",
    "    \n",
    "    return loc"
   ]
  },
  {
   "cell_type": "code",
   "execution_count": 37,
   "id": "1d512cfb-99fa-47b2-b4e9-f62cd3b955c4",
   "metadata": {
    "tags": []
   },
   "outputs": [],
   "source": [
    "def load_default_power_parameters(component_number = None):\n",
    "    \n",
    "    param_prefix = \"R\"\n",
    "    \n",
    "    power_line = ComponentType(\"power\", parameter_number = f\"{param_prefix}0\", component_number = component_number)\n",
    "    \n",
    "    inner_rad = NumParameter(\n",
    "        0,\n",
    "        name = \"inner radius\",\n",
    "        parameter_number = f\"{param_prefix}1\",\n",
    "        comment = \"Spiral inner radius [pixels]\",\n",
    "        component_name = \"Power\",\n",
    "        component_number = component_number\n",
    "    )\n",
    "    \n",
    "    outer_rad = NumParameter(\n",
    "        10,\n",
    "        name = \"outer radius\",\n",
    "        parameter_number = f\"{param_prefix}2\",\n",
    "        comment = \"Spiral outer radius [pixels]\",\n",
    "        component_name = \"Power\",\n",
    "        component_number = component_number\n",
    "    )\n",
    "    \n",
    "    cumul_rot = NumParameter(\n",
    "        90,\n",
    "        name = \"cumulative rotation out\",\n",
    "        parameter_number = f\"{param_prefix}3\",\n",
    "        comment = \"Cumul. rotation out to outer radius [degrees]\",\n",
    "        component_name = \"Power\",\n",
    "        component_number = component_number\n",
    "    )\n",
    "    \n",
    "    powerlaw_index = NumParameter(\n",
    "        0.5,\n",
    "        name = \"powerlaw index\",\n",
    "        parameter_number = f\"{param_prefix}1\",\n",
    "        comment = \"Asymptotic spiral powerlaw\",\n",
    "        component_name = \"Power\",\n",
    "        component_number = component_number\n",
    "    )\n",
    "    \n",
    "    inclination = NumParameter(\n",
    "        0,\n",
    "        name = \"inclination\",\n",
    "        parameter_number = f\"{param_prefix}9\",\n",
    "        comment = \"Inclination to L.o.S. [degrees]\",\n",
    "        component_name = \"Power\",\n",
    "        component_number = component_number\n",
    "    )\n",
    "    \n",
    "    sky_position_angle = NumParameter(\n",
    "        90,\n",
    "        name = \"sky_position_angle\",\n",
    "        parameter_number = f\"{param_prefix}10\",\n",
    "        comment = \"Sky position angle\",\n",
    "        component_name = \"Power\",\n",
    "        component_number = component_number\n",
    "    )\n",
    "    \n",
    "    # skip = Parameter(\n",
    "    #     0,\n",
    "    #     name = \"skip\",\n",
    "    #     parameter_number = \"Z\",\n",
    "    #     comment = \"Skip this model in output image?  (yes=1, no=0)\",\n",
    "    #     component_name = \"Power\",\n",
    "    #     component_number = component_number\n",
    "    # )\n",
    "    \n",
    "    loc = deepcopy(locals())\n",
    "    loc.pop(\"component_number\")\n",
    "    loc.pop(\"param_prefix\")\n",
    "    \n",
    "    return loc"
   ]
  },
  {
   "cell_type": "code",
   "execution_count": 38,
   "id": "2b983e90-7394-46f8-9df6-ca9c7d91907f",
   "metadata": {
    "tags": []
   },
   "outputs": [],
   "source": [
    "def load_default_fourier_parameters(component_number = None):\n",
    "    \n",
    "    param_prefix = \"F\"\n",
    "    \n",
    "    fourier1 = FourierMode(\n",
    "        mode = 1,\n",
    "        amplitude = 0.05,\n",
    "        phase_angle = 45,\n",
    "        component_number = component_number\n",
    "    )\n",
    "    \n",
    "    fourier3 = FourierMode(\n",
    "        mode = 3,\n",
    "        amplitude = 0.01,\n",
    "        phase_angle = 25,\n",
    "        component_number = component_number\n",
    "    )\n",
    "    \n",
    "    skip = NumParameter(\n",
    "        0,\n",
    "        name = \"skip\",\n",
    "        parameter_number = \"Z\",\n",
    "        comment = \"Skip this model in output image?  (yes=1, no=0)\",\n",
    "        component_name = \"Fourier\",\n",
    "        component_number = component_number\n",
    "    )\n",
    "    \n",
    "    loc = deepcopy(locals())\n",
    "    loc.pop(\"component_number\")\n",
    "    loc.pop(\"param_prefix\")\n",
    "    \n",
    "    return loc"
   ]
  },
  {
   "cell_type": "code",
   "execution_count": 39,
   "id": "d15c50be-f3e9-4323-bae7-c126bd22bb7e",
   "metadata": {
    "tags": []
   },
   "outputs": [],
   "source": [
    "# Parameters with defaults for Sky profile\n",
    "def load_default_sky_parameters(component_number = None):\n",
    "    sky_line = ComponentType(\"sky\", component_number = component_number)\n",
    "    \n",
    "    sky_background = NumParameter(\n",
    "        1000,\n",
    "        name = \"sky background\",\n",
    "        parameter_number = 1,\n",
    "        comment = \"Sky background at center of fitting region [ADUs]\",\n",
    "        component_name = \"Sky\",\n",
    "        component_number = component_number\n",
    "    )\n",
    "    \n",
    "    dsky_dx = NumParameter(\n",
    "        0,\n",
    "        name = \"dsky/dx\",\n",
    "        parameter_number = 2,\n",
    "        comment = \"dsky/dx (sky gradient in x)     [ADUs/pix]\",\n",
    "        component_name = \"Sky\",\n",
    "        component_number = component_number\n",
    "    )\n",
    "    \n",
    "    dsky_dy = NumParameter(\n",
    "        0,\n",
    "        name = \"dsky/dy\",\n",
    "        parameter_number = 2,\n",
    "        comment = \"dsky/dy (sky gradient in y)     [ADUs/pix]\",\n",
    "        component_name = \"Sky\",\n",
    "        component_number = component_number\n",
    "    )\n",
    "    \n",
    "    loc = deepcopy(locals())\n",
    "    loc.pop(\"component_number\")\n",
    "    \n",
    "    return loc"
   ]
  },
  {
   "cell_type": "code",
   "execution_count": 40,
   "id": "92fb9da8-d089-4404-ae7f-83f72d0503ef",
   "metadata": {
    "tags": []
   },
   "outputs": [],
   "source": [
    "# Parameters with defaults for Sky profile\n",
    "def load_default_header_parameters():\n",
    "    \n",
    "    input_image = HeaderParameter(\n",
    "        \"in.fits\",\n",
    "        name = \"input image\",\n",
    "        parameter_number = \"A\",\n",
    "        comment = \"Input data image (FITS file)\",\n",
    "        component_name = \"Header\"\n",
    "    )\n",
    "    \n",
    "    output_image = HeaderParameter(\n",
    "        \"out.fits\",\n",
    "        name = \"output image\",\n",
    "        parameter_number = \"B\",\n",
    "        comment = \"Output data image block\",\n",
    "        component_name = \"Header\"\n",
    "    )\n",
    "    \n",
    "    sigma_image = HeaderParameter(\n",
    "        \"none\",\n",
    "        name = \"sigma image\",\n",
    "        parameter_number = \"C\",\n",
    "        comment = \"Sigma image name (made from data if blank or 'none')\",\n",
    "        component_name = \"Header\"\n",
    "    )\n",
    "    \n",
    "    psf = HeaderParameter(\n",
    "        \"psf.fits\",\n",
    "        name = \"PSF\",\n",
    "        parameter_number = \"D\",\n",
    "        comment = \"Input PSF image and (optional) diffusion kernel\",\n",
    "        component_name = \"Header\"\n",
    "    )\n",
    "    \n",
    "    psf_fine_sampling = HeaderParameter(\n",
    "        1,\n",
    "        name = \"PSF fine sampling factor\",\n",
    "        parameter_number = \"E\",\n",
    "        comment = \"PSF fine sampling factor relative to data\",\n",
    "        component_name = \"Header\"\n",
    "    )\n",
    "    \n",
    "    pixel_mask = HeaderParameter(\n",
    "        \"none\",\n",
    "        name = \"pixel mask\",\n",
    "        parameter_number = \"F\",\n",
    "        comment = \"Bad pixel mask (FITS image or ASCII coord list)\",\n",
    "        component_name = \"Header\"\n",
    "    )\n",
    "    \n",
    "    constraint_file = HeaderParameter(\n",
    "        \"none\",\n",
    "        name = \"constraint file\",\n",
    "        parameter_number = \"G\",\n",
    "        comment = \"File with parameter constraints (ASCII file)\",\n",
    "        component_name = \"Header\"\n",
    "    )\n",
    "    \n",
    "    crop_region = ImageRegionToFit()\n",
    "    \n",
    "    conv_box    = ConvolutionBox()\n",
    "    \n",
    "    mag_photo_zeropoint = HeaderParameter(\n",
    "        24.8,\n",
    "        name = \"Magnitude photometric zeropoint\",\n",
    "        parameter_number = \"J\",\n",
    "        comment = \"Magnitude photometric zeropoint\",\n",
    "        component_name = \"Header\"\n",
    "    )\n",
    "    \n",
    "    plate_scale = PlateScale()\n",
    "    \n",
    "    display_type = HeaderParameter(\n",
    "        \"regular\",\n",
    "        name = \"display type\",\n",
    "        parameter_number = \"O\",\n",
    "        comment = \"Display type (regular, curses, both)\",\n",
    "        component_name = \"Header\"\n",
    "    )\n",
    "    \n",
    "    optimize = HeaderParameter(\n",
    "        1,\n",
    "        name = \"optimize\",\n",
    "        parameter_number = \"P\",\n",
    "        comment = \"Choose: 0=optimize, 1=model, 2=imgblock, 3=subcomps\",\n",
    "        component_name = \"Header\"\n",
    "    )\n",
    "    \n",
    "    loc = deepcopy(locals())\n",
    "    \n",
    "    return loc"
   ]
  },
  {
   "cell_type": "code",
   "execution_count": 41,
   "id": "ff706e3b-5bf0-4be5-b2b8-05cd75343a0f",
   "metadata": {
    "tags": []
   },
   "outputs": [
    {
     "name": "stdout",
     "output_type": "stream",
     "text": [
      " A) in.fits             # Input data image (FITS file)\n",
      " B) out.fits            # Output data image block\n",
      " C) none                # Sigma image name (made from data if blank or 'none')\n",
      " D) psf.fits            # Input PSF image and (optional) diffusion kernel\n",
      " E) 1                   # PSF fine sampling factor relative to data\n",
      " F) none                # Bad pixel mask (FITS image or ASCII coord list)\n",
      " G) none                # File with parameter constraints (ASCII file)\n",
      " H) 0   256   0   256   # Image region to fit (xmin xmax ymin ymax)\n",
      " I) 50 50               # Size of the convolution box (x y)\n",
      " J) 24.8                # Magnitude photometric zeropoint\n",
      " K) 0.3960 0.3960       # Plate scale (dx dy)   [arcsec per pixel]\n",
      " O) regular             # Display type (regular, curses, both)\n",
      " P) 1                   # Choose: 0=optimize, 1=model, 2=imgblock, 3=subcomps\n",
      "\n",
      " 0) sersic              # Component type\n",
      " 1) 100 100     0 0     # Position x, y\n",
      " 3) 16          1       # Integrated magnitude\n",
      " 4) 10          1       # R_e (effective radius)   [pix]\n",
      " 5) 1           1       # Sersic index n (de Vaucouleurs n=4)\n",
      " 9) 0.5         1       # Axis ratio (b/a)\n",
      "10) 90          1       # Position angle (PA) [deg: Up=0, Left=90]\n",
      " Z) 0           1       # Skip this model in output image?  (yes=1, no=0)\n",
      "\n",
      "R0) power               # Component type\n",
      "R1) 0           1       # Spiral inner radius [pixels]\n",
      "R2) 10          1       # Spiral outer radius [pixels]\n",
      "R3) 90          1       # Cumul. rotation out to outer radius [degrees]\n",
      "R1) 0.5         1       # Asymptotic spiral powerlaw\n",
      "R9) 0           1       # Inclination to L.o.S. [degrees]\n",
      "R10) 90          1      # Sky position angle\n",
      "\n",
      "F1) 0.05 45     1 1     # Azim. Fourier mode 1, amplitude, & phase angle\n",
      "F3) 0.01 25     1 1     # Azim. Fourier mode 3, amplitude, & phase angle\n",
      " Z) 0           1       # Skip this model in output image?  (yes=1, no=0)\n",
      "\n",
      " 0) sky                 # Component type\n",
      " 1) 1000        1       # Sky background at center of fitting region [ADUs]\n",
      " 2) 0           1       # dsky/dx (sky gradient in x)     [ADUs/pix]\n",
      " 2) 0           1       # dsky/dy (sky gradient in y)     [ADUs/pix]\n"
     ]
    }
   ],
   "source": [
    "if __name__ == \"__main__\":\n",
    "    _ = [print(v) for v in load_default_header_parameters().values()]\n",
    "    print()\n",
    "    _ = [print(v) for v in load_default_sersic_parameters().values()]\n",
    "    print()\n",
    "    _ = [print(v) for v in load_default_power_parameters().values()]\n",
    "    print()\n",
    "    _ = [print(v) for v in load_default_fourier_parameters().values()]\n",
    "    print()\n",
    "    _ = [print(v) for v in load_default_sky_parameters().values()]"
   ]
  },
  {
   "cell_type": "code",
   "execution_count": 16,
   "id": "d7af0c62-fbe9-4f59-9d44-bc769ce837fb",
   "metadata": {
    "tags": []
   },
   "outputs": [
    {
     "name": "stdout",
     "output_type": "stream",
     "text": [
      "Converting Parameters.ipynb\n"
     ]
    }
   ],
   "source": [
    "if __name__ == \"__main__\":\n",
    "    export_to_py(\"Parameters\", pj(_MODULE_DIR, \"Classes\", \"Parameters\"))"
   ]
  }
 ],
 "metadata": {
  "kernelspec": {
   "display_name": "Python 3 (ipykernel)",
   "language": "python",
   "name": "python3"
  },
  "language_info": {
   "codemirror_mode": {
    "name": "ipython",
    "version": 3
   },
   "file_extension": ".py",
   "mimetype": "text/x-python",
   "name": "python",
   "nbconvert_exporter": "python",
   "pygments_lexer": "ipython3",
   "version": "3.11.4"
  }
 },
 "nbformat": 4,
 "nbformat_minor": 5
}
