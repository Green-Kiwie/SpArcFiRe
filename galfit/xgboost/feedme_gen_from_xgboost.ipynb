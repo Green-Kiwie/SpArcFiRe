{
 "cells": [
  {
   "cell_type": "code",
   "execution_count": null,
   "id": "0c0d21d8-ae76-47f5-876d-e61d0f7881e5",
   "metadata": {
    "tags": []
   },
   "outputs": [],
   "source": [
    "!pip install xgboost\n",
    "!pip install hyperopt\n",
    "!pip install graphviz"
   ]
  },
  {
   "cell_type": "code",
   "execution_count": null,
   "id": "632d11b4-6579-4666-a0ee-1be68d4489a7",
   "metadata": {},
   "outputs": [],
   "source": [
    "from sparc_to_galfit_feedme_gen import *\n",
    "from xgboost_feedme_functions import galfit_param_grab, flatten_to_pandas, make_hist_plots, export_filter #build_df, choose_df, "
   ]
  },
  {
   "cell_type": "code",
   "execution_count": null,
   "id": "33eb3154-59cc-49b0-82ed-4fbde6fc00b7",
   "metadata": {},
   "outputs": [],
   "source": [
    "import xgboost as xgb\n",
    "import pandas as pd\n",
    "\n",
    "import plotly.graph_objects as go\n",
    "import plotly.express as px\n",
    "from plotly.subplots import make_subplots\n",
    "\n",
    "import os\n",
    "from os.path import join as pj"
   ]
  },
  {
   "cell_type": "code",
   "execution_count": null,
   "id": "97c7165d-7a59-482b-b9d4-1b8a99ff7cfe",
   "metadata": {},
   "outputs": [],
   "source": [
    "model_xgb = xgb.XGBRegressor()\n",
    "model_xgb.load_model(\"xgboost_model.json\")"
   ]
  },
  {
   "cell_type": "code",
   "execution_count": null,
   "id": "aef39fbe-582e-4cd1-bef9-991db9b2d390",
   "metadata": {},
   "outputs": [],
   "source": [
    "cwd = os.getcwd()\n",
    "home_dir = os.environ['HOME']"
   ]
  },
  {
   "cell_type": "code",
   "execution_count": null,
   "id": "b2f8f104-64bc-4b35-b6c3-e721cf995f53",
   "metadata": {},
   "outputs": [],
   "source": [
    "top_dir = pj(home_dir, \"run5_galfit_xgboosted\")\n",
    "in_dir, tmp_dir, out_dir = command_line(top_dir)\n",
    "filenames_fits_in, galaxy_names, folders_out = get_galaxy_names_list(in_dir)"
   ]
  },
  {
   "cell_type": "code",
   "execution_count": null,
   "id": "ef270f4a-2b01-4b40-85bc-39637eb39609",
   "metadata": {},
   "outputs": [],
   "source": [
    "output_df = pd.DataFrame()\n",
    "\n",
    "for filepath, gname in zip(folders_out, galaxy_names):\n",
    "    gal_dict, param_names = galfit_param_grab(pj(filepath, gname + \".in\"))\n",
    "    if not param_names: continue\n",
    "    \n",
    "    gname_df = flatten_to_pandas(gal_dict, param_names, gname)\n",
    "    output_df = pd.concat([output_df, gname_df])\n",
    "    \n",
    "#galfit_in_df = output_df\n",
    "#galfit_out_df = flatten_to_pandas(galfit_param_grab(), param_names, gname)"
   ]
  },
  {
   "cell_type": "code",
   "execution_count": null,
   "id": "6b8692df-5b58-4134-9656-6fbc79df5842",
   "metadata": {},
   "outputs": [],
   "source": [
    "galfit_in_df = output_df"
   ]
  },
  {
   "cell_type": "code",
   "execution_count": null,
   "id": "093816db-7d3b-425f-8469-ae787cc2ca23",
   "metadata": {},
   "outputs": [],
   "source": [
    "# output_df = pd.DataFrame()\n",
    "\n",
    "# for filepath, gname in zip(folders_out, galaxy_names):\n",
    "#     gal_dict, param_names = galfit_param_grab(pj(filepath, gname + \".out\"))\n",
    "#     if not param_names: continue\n",
    "    \n",
    "#     gname_df = flatten_to_pandas(gal_dict, param_names, gname)\n",
    "#     output_df = pd.concat([output_df, gname_df])\n",
    "\n",
    "# galfit_out_df = output_df\n",
    "# #galfit_out_df = flatten_to_pandas(galfit_param_grab(), param_names, gname)"
   ]
  },
  {
   "cell_type": "code",
   "execution_count": null,
   "id": "f905b09c-b772-400b-87a9-498d7da22521",
   "metadata": {},
   "outputs": [],
   "source": [
    "ignore_galfit_in, ignore_galfit_out, in_filter = export_filter()"
   ]
  },
  {
   "cell_type": "code",
   "execution_count": null,
   "id": "22e482dc-c755-47e4-b6fa-363556775de1",
   "metadata": {},
   "outputs": [],
   "source": [
    "ignore_galfit_out"
   ]
  },
  {
   "cell_type": "code",
   "execution_count": null,
   "id": "655318c4-a7f7-4726-93c4-bf25b1f54abe",
   "metadata": {},
   "outputs": [],
   "source": [
    "#galfit_in_df.drop(columns = ignore_galfit_in)\n",
    "# For the input galaxies, we have a lot of held values, these are uneccessary\n",
    "# https://stackoverflow.com/a/39658662\n",
    "nunique = galfit_in_df.nunique()\n",
    "cols_to_drop = list(nunique[nunique == 1].index) + ignore_galfit_in\n",
    "reduced_galfit_in_df = galfit_in_df.drop(columns = cols_to_drop)"
   ]
  },
  {
   "cell_type": "code",
   "execution_count": null,
   "id": "641bd1c4-b046-4123-bd95-e6bef07b29cd",
   "metadata": {},
   "outputs": [],
   "source": [
    "galfit_in_df = output_df\n",
    "galfit_in_df = galfit_in_df.drop(columns = \"Crop Rad\")"
   ]
  },
  {
   "cell_type": "code",
   "execution_count": null,
   "id": "ee7ae689-82c6-45cd-918a-a6e43b173e11",
   "metadata": {},
   "outputs": [],
   "source": [
    "# Do this to grab just the columns we want\n",
    "leftover = list(set(galfit_in_df.columns).difference(set(ignore_galfit_in + ignore_galfit_out)))\n",
    "# Do this to retain column order\n",
    "leftover = [col for col in galfit_in_df.columns if col in leftover]\n",
    "# Manual removal for now (since galfit changed names on me)\n",
    "try:\n",
    "    leftover.remove('Spiral outer (i.e. asymptotic) radius (pixels) disk')\n",
    "except ValueError:\n",
    "    pass"
   ]
  },
  {
   "cell_type": "code",
   "execution_count": null,
   "id": "92939721-2c48-4c50-aa0f-e970f21b1a9e",
   "metadata": {},
   "outputs": [],
   "source": [
    "pred_out = model_xgb.predict(reduced_galfit_in_df)\n",
    "pred_out_df = pd.DataFrame(pred_out, columns = leftover, index = reduced_galfit_in_df.index)"
   ]
  },
  {
   "cell_type": "code",
   "execution_count": null,
   "id": "729e3151-0d83-4087-933c-272456f4116a",
   "metadata": {},
   "outputs": [],
   "source": [
    "galfit_in_df.update(pred_out_df)"
   ]
  },
  {
   "cell_type": "code",
   "execution_count": null,
   "id": "e9d4a576-602f-4fda-9f85-73fe54b25028",
   "metadata": {},
   "outputs": [],
   "source": [
    "too_small = galfit_in_df.query(\"`Asymptotic spiral powerlaw disk` < -5\")\n",
    "too_small.loc[:,\"Asymptotic spiral powerlaw disk\"] = 1\n",
    "galfit_in_df.update(too_small)\n",
    "# use this as a prefilter for training and then we won't have to do this here ;)"
   ]
  },
  {
   "cell_type": "code",
   "execution_count": null,
   "id": "f82d4792-bd51-4efa-a077-4e5c4c74b2bd",
   "metadata": {},
   "outputs": [],
   "source": [
    "leftover"
   ]
  },
  {
   "cell_type": "code",
   "execution_count": null,
   "id": "7d5a173d-9ac6-4ce5-a371-aeb07d0e2c9d",
   "metadata": {},
   "outputs": [],
   "source": [
    "for col in galfit_in_df.columns:\n",
    "    if col in leftover and (\"degree\" in col.lower() or \"angle\" in col.lower()):\n",
    "        galfit_in_df[col] *= 180/np.pi"
   ]
  },
  {
   "cell_type": "code",
   "execution_count": null,
   "id": "3f9fc579-7615-48e9-9a6b-936f1c68e3bb",
   "metadata": {},
   "outputs": [],
   "source": [
    "galfit_in_df[\"Inclination to L.o.S. (degrees) disk\"] *= 180/np.pi"
   ]
  },
  {
   "cell_type": "code",
   "execution_count": null,
   "id": "24e07a59-8f53-48e1-b79b-44e11d61381a",
   "metadata": {
    "tags": []
   },
   "outputs": [],
   "source": [
    "# The interim step until I feel confident enough in the model to step in *before* outputting these all to file\n",
    "def update_feedmes(new_in_df, top_dir = \"\"):\n",
    "    \n",
    "    in_dir, tmp_dir, out_dir = command_line(top_dir)\n",
    "    filenames_fits_in, galaxy_names, folders_out = get_galaxy_names_list(in_dir)\n",
    "    \n",
    "    psf_info = csv_sdss_info(galaxy_names)\n",
    "    \n",
    "    count = 0\n",
    "    paths_to_feedme = []\n",
    "    \n",
    "    for galaxy in folders_out:\n",
    "    \n",
    "        gname = galaxy_names[count]\n",
    "        print(gname)\n",
    "        \n",
    "        galaxy_info = new_in_df.loc[gname, :]\n",
    "        \n",
    "        if(os.path.basename(galaxy) != gname):\n",
    "            print(\"uh oh naming went wrong\")\n",
    "            sys.exit()\n",
    "            \n",
    "        bulge_rad, bulge_axis_ratio, pos_angle_bulge, \\\n",
    "            crop_rad, center_pos_x, center_pos_y, \\\n",
    "            disk_maj_axs_len, pos_angle_disk, pos_angle_power, \\\n",
    "            axis_ratio, max_arc, spin_dir, \\\n",
    "            est_arcs, inclination, bar_candidate, \\\n",
    "            alpha = galaxy_information(gname, galaxy)\n",
    "        \n",
    "        center_pos_x = float(center_pos_x)\n",
    "        center_pos_y = float(center_pos_y)\n",
    "        crop_rad = float(crop_rad)\n",
    "        \n",
    "        x1crop = round(center_pos_x - crop_rad)\n",
    "        x2crop = round(center_pos_x + crop_rad)        \n",
    "        y1crop = round(center_pos_y - crop_rad)\n",
    "        y2crop = round(center_pos_y + crop_rad)\n",
    "               \n",
    "        # Initializing Feedme\n",
    "        feedme_list = []\n",
    "        \n",
    "        # Initialize template dict\n",
    "        gt = quick_build_template() # galfit template\n",
    "        #gt = rebuild_template_dict(\"./m51.feedme\")\n",
    "    \n",
    "        #To reconstruct the z PSF (i.e., the 5th HDU) at the position (row, col) = (500, 600) from run 1336, column 2, field 51 you’d say:\n",
    "        #read_PSF psField-001336-2-0051.fit 5 500.0 600.0 foo.fit\n",
    "        run, rerun, camcol, field, psf_row, psf_col, petromag = psf_info[gname]\n",
    "        \n",
    "        # new_in_df shouldddd retain order of columns, making my life (the programmer's) easier\n",
    "        # hardcoding those should provide a good litmus test too\n",
    "        all_col = new_in_df.columns# .drop(\"Crop Rad\").values\n",
    "\n",
    "        feedme_list.append(f\"#{run}{camcol}{field}; HDU: z{psf_row}{psf_col}\")\n",
    "        feedme_list.append(\"\")\n",
    "        # Image and Galfit Control Param\n",
    "        feedme_list.append(f\"A) {filenames_fits_in[count]}\")\n",
    "        feedme_list.append(f\"B) {tmp_dir}/galfits/{gname}_out.fits\")\n",
    "        feedme_list.append(f\"C) none\")\n",
    "        # Commenting out psf for now because it's causing galfit to crash\n",
    "        feedme_list.append(f\"D) none\") #{tmp_dir}/psf_files/{gname}_psf.fits\")\n",
    "        feedme_list.append(f\"E) 1\")\n",
    "        feedme_list.append(f\"F) {tmp_dir}/galfit_masks/{gname}_star-rm.fits\")\n",
    "        feedme_list.append(f\"G) none\")  #./constraints.txt\"\n",
    "        feedme_list.append(f\"H) {x1crop:d} {x2crop:d} {y1crop:d} {y2crop:d}\")\n",
    "        feedme_list.append(f\"I) 50 50\") # psf FWHM ~= 1, Chien recommends 40-80 times this value\n",
    "        feedme_list.append(f\"J) 24.8\") # SDSS\n",
    "        feedme_list.append(f\"K) 0.396  0.396\") # SDSS\n",
    "        feedme_list.append(f\"O) regular\")\n",
    "        feedme_list.append(f\"P) 0\")\n",
    "        feedme_list.append(\"\")\n",
    "        \n",
    "        # Sersic 1\n",
    "        # Fixing as much as I can here... it's not exactly a priority.\n",
    "        feedme_list.append(f\"# Component number: 1\")\n",
    "        feedme_list.append(f\"0) sersic\")\n",
    "        feedme_list.append(f\"1) {center_pos_x:.1f} {center_pos_y:.1f} 0 0\")\n",
    "        feedme_list.append(f\"3) {galaxy_info[all_col[0]]:.2f} 1\") # Initial guess goes here\n",
    "        feedme_list.append(f\"4) {galaxy_info[all_col[1]]:.2f} 1\") \n",
    "        feedme_list.append(f\"5) {galaxy_info[all_col[2]]:.2f} 1\") # According to other paper GALFIT usually doesn't have a problem with the index\n",
    "        feedme_list.append(\"6) 0  0\")    \n",
    "        feedme_list.append(\"7) 0  0\")    \n",
    "        feedme_list.append(\"8) 0  0\")    \n",
    "        # According to other papers, bulge (esp. in spiral galaxies) averages to about 2 so this is a good starting place\n",
    "        # see https://ned.ipac.caltech.edu/level5/Sept11/Buta/Buta9.html\n",
    "        feedme_list.append(f\"9) {galaxy_info[all_col[3]]:.2f} 1\")  \n",
    "        feedme_list.append(f\"10) {galaxy_info[all_col[4]]:.2f} 1\") \n",
    "        feedme_list.append(\"\")\n",
    "    \n",
    "        # Sersic 2\n",
    "        feedme_list.append(\"# Component number: 2\")\n",
    "        feedme_list.append(f\"0) sersic\")\n",
    "        feedme_list.append(f\"1) {center_pos_x:.1f} {center_pos_y:.1f} 0 0\")\n",
    "        feedme_list.append(f\"3) {galaxy_info[all_col[5]]:.2f} 1\") \n",
    "        feedme_list.append(f\"4) {galaxy_info[all_col[6]]:.2f} 1\") # Use this for effective radius? Also 0 this one out? Will have to see how well it works in practice\n",
    "        feedme_list.append(f\"5) {galaxy_info[all_col[7]]:.2f} 1\") # Classical disk follows Sersic n = 1 so good place to start (per Readme Exponential profile)\n",
    "                                      # According to comparison tests, this usually ends up much higher probably due to the spiral.\n",
    "        feedme_list.append(\"6) 0  0\")    \n",
    "        feedme_list.append(\"7) 0  0\")    \n",
    "        feedme_list.append(\"8) 0  0\")    \n",
    "        feedme_list.append(f\"9) 0.6 0\") #{galaxy_info[all_col[8]]:.2f} 1\")  # Fixing this to 0.6 to give the arms the best chance to form\n",
    "        #(f\"9) {axis_ratio - 0.3} 1 {gt['9']}\")\n",
    "        feedme_list.append(f\"10) {galaxy_info[all_col[9]]:.2f} 1\") #90  1\") # fixing this to 'normal' 0 so that we can JUST rotate power function\n",
    "        #feedme_list.append(f\"10) 90  1\") # fixing this to 'normal' 0 so that we can JUST rotate power function\n",
    "        feedme_list.append(\"\")\n",
    "    \n",
    "        # Power\n",
    "        feedme_list.append(\"R0) power\")\n",
    "        feedme_list.append(f\"R1) {galaxy_info[all_col[10]]:.2f} 0\") # Chosen based on where *detection* of arms usually start\n",
    "        feedme_list.append(f\"R2) {galaxy_info[all_col[11]]:.2f} 0\")\n",
    "        feedme_list.append(f\"R3) {galaxy_info[all_col[12]]:.2f} 1\") # See calc above\n",
    "        feedme_list.append(f\"R4) {galaxy_info[all_col[13]]:.2f} 1\") # Another good thing to automate via Sparcfire \n",
    "        feedme_list.append(f\"R9) {galaxy_info[all_col[14]]:.2f} 1\") # see if can't 0 this one out... \n",
    "        feedme_list.append(f\"R10) {galaxy_info[all_col[15]]:.2f}  1\")# 40 + pos_angle_power + \" 1\") # Always more to discover, looks like all the images are mirrored across the y axis.\n",
    "\n",
    "        # ---- Fourier modes. May need to add more at some point (?)\n",
    "        feedme_list.append(f\"F1) {galaxy_info[all_col[16]]:.2f} 45  1  1\") # Need to experiment with amplitude and phase angle for better understanding of this\n",
    "        feedme_list.append(f\"F3) {galaxy_info[all_col[17]]:.3f} 25  1  1\")\n",
    "        feedme_list.append(f\"#F4) {galaxy_info[all_col[18]]:.3f} 4  1  1\")\n",
    "        feedme_list.append(f\"#F5) {galaxy_info[all_col[19]]:.3f} 6  1  1\")  \n",
    "        feedme_list.append(\"\")\n",
    "    \n",
    "        # Sky -- Necessary?\n",
    "        feedme_list.append(f\"# Component number: 3\")\n",
    "        feedme_list.append(f\"0) sky\")\n",
    "        feedme_list.append(f\"1) 1000  1\")\n",
    "        feedme_list.append(f\"2) 0  1\")\n",
    "        feedme_list.append(f\"3) 0  1\")\n",
    "                       \n",
    "        count += 1\n",
    "        \n",
    "        formatted_feedme = []\n",
    "        extra = \"\"\n",
    "        for i in feedme_list:\n",
    "            if i and not i.startswith(\"#\"):\n",
    "                str_split = i.split(\")\")\n",
    "                component = extra + str_split[0]\n",
    "                formatted_feedme.append(f\"{i:<{gt['fill']}} {gt[component]}\")\n",
    "                \n",
    "                # Sneakily do this at the end since 0) sky is just component name\n",
    "                if \"sky\" in str_split[1]:\n",
    "                    extra = \"sky\"\n",
    "        #_ = [print(i) for i in formatted_feedme]\n",
    "        #paths_to_feedme.append(write_to_feedme(galaxy, formatted_feedme, feedme_name = gname + \"_input\")) # do I need paths_to_feedme? I used to use it for something...\n",
    "        paths_to_feedme.append(write_to_feedme(pj(top_dir, out_dir, gname), formatted_feedme, feedme_name = gname + \".in\")) # do I need paths_to_feedme? I used to use it for something..."
   ]
  },
  {
   "cell_type": "code",
   "execution_count": null,
   "id": "89efbc98-2516-47cb-8e03-d36a1f7ecff3",
   "metadata": {
    "tags": []
   },
   "outputs": [],
   "source": [
    "update_feedmes(galfit_in_df, top_dir = top_dir)"
   ]
  }
 ],
 "metadata": {
  "kernelspec": {
   "display_name": "Python 3 (ipykernel)",
   "language": "python",
   "name": "python3"
  },
  "language_info": {
   "codemirror_mode": {
    "name": "ipython",
    "version": 3
   },
   "file_extension": ".py",
   "mimetype": "text/x-python",
   "name": "python",
   "nbconvert_exporter": "python",
   "pygments_lexer": "ipython3",
   "version": "3.10.9"
  }
 },
 "nbformat": 4,
 "nbformat_minor": 5
}
