{
 "cells": [
  {
   "cell_type": "markdown",
   "id": "b74c8abe-15bb-4a67-ba56-ca8eeb720eac",
   "metadata": {},
   "source": [
    "**Author: Matthew Portman**\n",
    "\n",
    "**Date (Github date will likely be more accurate): 4/17/23**"
   ]
  },
  {
   "cell_type": "raw",
   "id": "e21f5446-3bdf-49e6-9702-2b064dfb21c1",
   "metadata": {},
   "source": [
    "# 1/26/21\n",
    "# New usage ---\n",
    "# Will default to running on top of sparc directory \n",
    "# unless otherwise specified\n",
    "# \n",
    "# Command line args\n",
    "#\n",
    "# -r, --rerun-galfit\n",
    "#\t\tRe-run GALFIT using the galfit.01 file\n",
    "#\n",
    "# -p, --path\n",
    "#\t\tSpecify path to Sparcfire's in/tmp/out directories in that order;\n",
    "#\t\te.g. '-p /home/sparcfire_in /home/sparcfire_tmp /home/sparcfire_out'\n",
    "#\n",
    "\n",
    "# Change log - 1/19/21 \n",
    "# Updated silent to catch everything\n",
    "# Updated call to feedme gen to include paths\n",
    "# Changed 'which' to 'type -P' which seems better\n",
    "# See note for files= and masks=\n",
    "\n",
    "# For controlling galfitting via sparcfire\n",
    "\n",
    "# ***************************************************************"
   ]
  },
  {
   "cell_type": "code",
   "execution_count": 23,
   "id": "a6ef73de-bec0-40d9-8389-b5016b67ffa6",
   "metadata": {
    "tags": []
   },
   "outputs": [],
   "source": [
    "from galfit_objects import *\n",
    "# This should give me numpy and pandas and whatnot\n",
    "# also gives this, from os.path import join as pj\n",
    "from sparc_to_galfit_feedme_gen import *\n",
    "import go_go_galfit\n",
    "\n",
    "import argparse\n",
    "import shutil\n",
    "from IPython import get_ipython\n",
    "import subprocess"
   ]
  },
  {
   "cell_type": "raw",
   "id": "4d9bdd34-03a2-475c-93ef-ac8b500f4b05",
   "metadata": {
    "tags": []
   },
   "source": [
    "# For debugging purposes\n",
    "def in_notebook():\n",
    "    ip = get_ipython()\n",
    "    \n",
    "    if ip:\n",
    "        return True\n",
    "    else:\n",
    "        return False"
   ]
  },
  {
   "cell_type": "code",
   "execution_count": null,
   "id": "debf2e87-9b1f-4fc4-bbb6-5c333b4eb022",
   "metadata": {
    "tags": []
   },
   "outputs": [],
   "source": [
    "def sp(cmd_str, capture_output = True):\n",
    "    # Because it is a pain in the butt to call subprocess with all those commands every time\n",
    "    return subprocess.run(cmd_str, capture_output = capture_output, text = True, shell = True, executable=\"/bin/bash\")"
   ]
  },
  {
   "cell_type": "code",
   "execution_count": null,
   "id": "32377d52-fa4f-467a-b40b-3d56e5b5cec2",
   "metadata": {
    "tags": []
   },
   "outputs": [],
   "source": [
    "if __name__ == \"__main__\":\n",
    "    \n",
    "    # Force >python 3.6 for various compatabilities\n",
    "    out_str = \"\\t Python3.6 or greater required! Exitting without generating feedmes...\"\n",
    "    assert sys.version_info >= (3, 6), out_str\n",
    "    \n",
    "    user_home = os.environ[\"HOME\"]\n",
    "    cwd = os.getcwd() # Doesn't work *in* notebook\n",
    "    username = os.environ[\"USER\"]\n",
    "    \n",
    "    USAGE = f\"\"\"USAGE:\n",
    "\n",
    "    python3 ./{sys.argv[0]} [-S|--slurm] [-R|--rerun-galfit] IN-DIRECTORY TMP-DIRECTORY OUT-DIRECTORY\n",
    "\n",
    "    This script is the wrapping script for running GALFIT using SpArcFiRe to inform \n",
    "    the input. By default, it runs from the directory it is called and checks for the\n",
    "    existence (verbatim) of the 'sparcfire-in' 'sparcfire-tmp' and 'sparcfire-out' \n",
    "    directories in the current directory. If this is not the case, it will fail and exit. \n",
    "\n",
    "    You may specify a different in, tmp, and out directory using the '-p' option. Please\n",
    "    do not specify a symlink, it discomforts the programmer.\n",
    "    \"\"\"\n",
    "    \n",
    "    parser = argparse.ArgumentParser(description = USAGE)\n",
    "    \n",
    "    # TODO: invert this to running without slurm for when it comes time for the big runs\n",
    "    parser.add_argument('-S', '--slurm',\n",
    "                        dest     = 'slurm',\n",
    "                        action   = 'store_const',\n",
    "                        const    = True,\n",
    "                        # Soon to be the other way around\n",
    "                        default  = False,\n",
    "                        help     = 'Run GALFITs using Slurm.')\n",
    "\n",
    "    parser.add_argument('-drS', '--dont-remove-slurm',\n",
    "                        dest     = 'dont_remove_slurm',\n",
    "                        action   = 'store_const',\n",
    "                        const    = True,\n",
    "                        default  = False,\n",
    "                        help     = 'Choose NOT to remove all old slurm files (they may contain basic info about each fit but there will be a bunch!)')\n",
    "    \n",
    "    \n",
    "    parser.add_argument('-ns', '--num-steps',\n",
    "                        dest     = 'steps', \n",
    "                        action   = 'store',\n",
    "                        type     = int,\n",
    "                        choices  = range(1,4),\n",
    "                        default  = 2,\n",
    "                        help     = 'Run GALFIT using step-by-step component selection (up to 3), i.e. \\n \\\n",
    "                                    1: Bulge + Disk + Arms,\\n \\\n",
    "                                    2: Bulge -> Bulge + Disk + Arms,\\n \\\n",
    "                                    3: Bulge -> Bulge + Disk -> Bulge + Disk + Arms'\n",
    "                       )\n",
    "    \n",
    "    parser.add_argument('-R', '--rerun-galfit',\n",
    "                        dest     = 'rerun', \n",
    "                        action   = 'store_const',\n",
    "                        const    = True,\n",
    "                        # Python cannot convert 'False' to a boolean... it's true *cries*\n",
    "                        default  = \"\",\n",
    "                        help     = 'Run GALFIT again after the final fit to hopefully refine said fit.')\n",
    "    \n",
    "    parser.add_argument(dest     = 'paths',\n",
    "                        nargs    = \"*\",\n",
    "                        type     = str,\n",
    "                        help     = \"IN-DIRECTORY TMP-DIRECTORY OUT-DIRECTORY from SpArcFiRe. \\\n",
    "                                    Must follow -in, -tmp, out or this won't work.\")\n",
    "    \n",
    "    if not in_notebook():\n",
    "        args = parser.parse_args() # Using vars(args) will call produce the args as a dict\n",
    "        num_steps = args.steps\n",
    "        slurm = args.slurm\n",
    "        dont_remove_slurm = args.dont_remove_slurm\n",
    "        rerun = args.rerun\n",
    "        \n",
    "        # if num_steps not in range(1,4):\n",
    "        #     print(\"The number of steps you selected cannot be used!\")\n",
    "        #     print(\"Using two.\")\n",
    "        #     print()\n",
    "        #     num_steps = 2\n",
    "\n",
    "        if len(args.paths) == 3:\n",
    "            in_dir, tmp_dir, out_dir = args.paths[0], args.paths[1], args.paths[2]\n",
    "        else:\n",
    "            in_dir = pj(cwd, \"sparcfire-in\")\n",
    "            tmp_dir = pj(cwd, \"sparcfire-tmp\")\n",
    "            out_dir = pj(cwd, \"sparcfire-out\")\n",
    "\n",
    "            print(f\"Paths incorrectly specified, defaulting to (in, tmp, out)...\")\n",
    "            print(f\"{in_dir}\\n{tmp_dir}\\n{out_dir}\")\n",
    "            print()\n",
    "            \n",
    "    else:\n",
    "        slurm = False\n",
    "        rerun = \"\"\n",
    "        num_steps = 2\n",
    "        \n",
    "        cwd = cwd.replace(\"ics-home\", username)\n",
    "        in_dir = pj(cwd, \"sparcfire-in\")\n",
    "        tmp_dir = pj(cwd, \"sparcfire-tmp\")\n",
    "        out_dir = pj(cwd, \"sparcfire-out\")\n",
    "        \n",
    "        sys.path.append(pj(user_home, \".local\", \"bin\"))"
   ]
  },
  {
   "cell_type": "markdown",
   "id": "91ba02eb-ebf9-4e0a-97ed-6d8df59162a0",
   "metadata": {},
   "source": [
    "## Checking file directories and installed programs"
   ]
  },
  {
   "cell_type": "code",
   "execution_count": null,
   "id": "05d01744-c99d-4e70-b1ae-04a5545df77b",
   "metadata": {
    "tags": []
   },
   "outputs": [],
   "source": [
    "if __name__ == \"__main__\":\n",
    "    # Checking dirs\n",
    "    \n",
    "    assert all((exists(in_dir), exists(tmp_dir), exists(out_dir))), \\\n",
    "           f\"Cannot find one of: in, tmp, or out directories:\\n{in_dir}\\n{tmp_dir}\\n{out_dir}\\n\" \\\n",
    "           \"Do those look right?\"\n",
    "    \n",
    "#     # to redirect stderr to /dev/null as well:\n",
    "#     #subprocess.run(['ls', '-l'], stderr=subprocess.DEVNULL)\n",
    "\n",
    "    if not in_notebook():\n",
    "        run_galfit, run_fitspng, run_python = go_go_galfit.check_programs()\n",
    "#         # This seems to work in Python directly so I'm leaving it as-is\n",
    "#         # Checking galfit\n",
    "#         run_galfit = shutil.which(\"galfit\")\n",
    "#         #run_galfit = response.stdout.strip()\n",
    "        \n",
    "#         # Checking fitspng\n",
    "#         run_fitspng   = shutil.which(\"fitspng\")\n",
    "#         fitspng_param = \"0.25,1\" #1,150\"\n",
    "        \n",
    "#         # Checking exact python3 call\n",
    "#         run_python = shutil.which(\"python3\")\n",
    "\n",
    "    else:\n",
    "        run_galfit  = pj(user_home, \".local/bin/galfit\")\n",
    "        run_fitspng = pj(user_home, \".local/bin/fitspng\")\n",
    "        run_python  = \"/opt/conda/bin/python3\""
   ]
  },
  {
   "cell_type": "markdown",
   "id": "46afa543-182b-4f70-abc1-7512ab09e291",
   "metadata": {},
   "source": [
    "## Setting up directories and handy variables"
   ]
  },
  {
   "cell_type": "code",
   "execution_count": null,
   "id": "53cf5af5-a0af-4fd6-b86d-fc6805b443eb",
   "metadata": {
    "tags": []
   },
   "outputs": [],
   "source": [
    "if __name__ == \"__main__\":\n",
    "    # Setting up paths and variables\n",
    "    tmp_fits_dir = pj(tmp_dir, \"galfits\")\n",
    "    tmp_masks_dir   = pj(tmp_dir, \"galfit_masks\")\n",
    "    tmp_psf_dir     = pj(tmp_dir, \"psf_files\")\n",
    "    tmp_png_dir     = pj(tmp_dir, \"galfit_png\")\n",
    "    \n",
    "    #all_galfit_out = pj(out_dir, \"all_galfit_out\")\n",
    "    out_png_dir     = pj(out_dir, \"galfit_png\")\n",
    "    \n",
    "    # Remove old\n",
    "    try:\n",
    "        shutil.rmtree(tmp_fits_dir)\n",
    "    except OSError as e:\n",
    "        pass\n",
    "    \n",
    "    # Making sub-directories\n",
    "    _ = [os.mkdir(i) for i in (tmp_fits_dir, tmp_masks_dir, tmp_psf_dir, tmp_png_dir, out_png_dir) if not exists(i)]\n",
    "    \n",
    "    # makedirs will make both at once, handy!\n",
    "    #if not exists(out_png): os.makedirs(out_png)"
   ]
  },
  {
   "cell_type": "markdown",
   "id": "4d674546-203d-45cd-b454-c36b07410c97",
   "metadata": {
    "tags": []
   },
   "source": [
    "## Running sextractor (if necessary)"
   ]
  },
  {
   "cell_type": "code",
   "execution_count": null,
   "id": "2c44e832-54ad-4892-be51-6625bb525ce5",
   "metadata": {
    "tags": []
   },
   "outputs": [],
   "source": [
    "if __name__ == \"__main__\":    \n",
    "    # Grabbing list of file names and masks with bash variable expansion\n",
    "    input_filenames = glob.glob(pj(in_dir, \"*.fits\"))\n",
    "    star_masks      = glob.glob(pj(tmp_masks_dir, \"*_star-rm.fits\"))\n",
    "    \n",
    "    if star_masks:\n",
    "        sp(f\"mv {pj(tmp_dir,'*_star-rm.fits')} {tmp_masks_dir}\")\n",
    "        \n",
    "    star_masks      = glob.glob(pj(tmp_masks_dir, \"*_star-rm.fits\"))        \n",
    "    \n",
    "    try:\n",
    "        if exists(pj(cwd, \"star_removal\")):\n",
    "            star_removal_path = pj(cwd, \"star_removal\")\n",
    "        else:\n",
    "            star_removal_path = pj(os.environ[\"SPARCFIRE_HOME\"], \"star_removal\")\n",
    "    except KeyError as k:\n",
    "        print(\"SPARCFIRE_HOME environment variable is not set.\")\n",
    "        print(\"Will not be able to create star masks using 'remove_stars_with_sextractor.py'\")\n",
    "        print(\"If they have already been generated, ignore this message.\")\n",
    "        print()\n",
    "        \n",
    "    else:\n",
    "        os.chdir(star_removal_path)\n",
    "        if len(input_filenames) != len(star_masks):\n",
    "            print(\"Generating starmasks...\")\n",
    "            out_text = sp(f\"python3 {pj(star_removal_path, 'remove_stars_with_sextractor.py')} {in_dir} {tmp_masks_dir}\")\n",
    "\n",
    "            if out_text.stderr.strip():\n",
    "                print(f\"Something went wrong running 'remove_stars_with_sextractor.py'! Printing debug info...\")\n",
    "                print(out_text)\n",
    "                #print(type(out_text.stderr))\n",
    "            else:\n",
    "                print(\"Star masks have been generated successfully.\")\n",
    "                print()\n",
    "        else:\n",
    "            print(\"Star masks have already been generated, proceeding.\")\n",
    "            print()\n",
    "            \n",
    "        os.chdir(cwd)"
   ]
  },
  {
   "cell_type": "markdown",
   "id": "f3ea68dc-0ec7-495d-8a93-1bfe6025a2ef",
   "metadata": {
    "tags": []
   },
   "source": [
    "## Galfitting/Slurming!"
   ]
  },
  {
   "cell_type": "code",
   "execution_count": null,
   "id": "eb7fcee8-b2f4-4248-9940-2f0993b768b4",
   "metadata": {},
   "outputs": [],
   "source": [
    "def write_to_slurm(cwd, kwargs_main, galfit_script_name = \"go_go_galfit.py\", slurm_file = \"slurm_cmd_file\"):\n",
    "    _, _, run_python = go_go_galfit.check_programs()\n",
    "    kwargs_in    = deepcopy(kwargs_main)\n",
    "    \n",
    "    print(f\"Generating distrib-slurm input file in {cwd}: {slurm_file}\")\n",
    "    with open(pj(cwd, slurm_file), \"w\") as scf:\n",
    "        for gname in kwargs_main[\"galaxy_names\"]:\n",
    "            kwargs_in[\"galaxy_names\"] = gname\n",
    "\n",
    "            cmd_str = \"\"\n",
    "            for k,v in kwargs_in.items():\n",
    "                cmd_str += f\"{k}={v} \"\n",
    "            # Good thing dictionaries retain order now, *whistles innocently*\n",
    "            scf.write(f\"{run_python} {galfit_script_name} {cmd_str}\\n\")\n",
    "\n",
    "    sp(f\"chmod a+x {slurm_file}\", capture_output = False)"
   ]
  },
  {
   "cell_type": "code",
   "execution_count": 41,
   "id": "80d0d7c8-9731-4c6c-98f3-d2767108098d",
   "metadata": {
    "tags": []
   },
   "outputs": [],
   "source": [
    "def check_galfit_out_hangups(galaxy_names, tmp_fits_dir, out_dir, kwargs_main):\n",
    "    # For hang-ups, check if final copy has occurred\n",
    "    # Check for file which indicates galfit outputs nothing at all\n",
    "    # This avoids conflating ones which han'vet run and ones which have nothing to show for it\n",
    "    kwargs_main[\"galaxy_names\"] = [gname for gname in galaxy_names \n",
    "                                   if not exists(f\"{pj(out_dir, gname, gname)}_galfit_out.fits\")\n",
    "                                   and not exists(f\"{pj(tmp_fits_dir, 'failed_' + gname)}_galfit_out.fits\")]\n",
    "    \n",
    "    # because of mutability I don't need to do this but\n",
    "    # because it's good practice...\n",
    "    return kwargs_main"
   ]
  },
  {
   "cell_type": "code",
   "execution_count": null,
   "id": "c0107afc-4b40-4c86-b82b-8df344be9b1a",
   "metadata": {
    "tags": []
   },
   "outputs": [],
   "source": [
    "if __name__ == \"__main__\":\n",
    "    galaxy_names = [os.path.basename(i).rstrip(\".fits\") \n",
    "                for i in input_filenames]\n",
    "    \n",
    "    # Backing up old fits\n",
    "    # So we can check for new ones\n",
    "    # and also backup previous runs if there's an accidental overwrite\n",
    "    for gname in galaxy_names:\n",
    "        new_out = pj(out_dir, gname, f\"{gname}_galfit_out.fits\")\n",
    "        old_out = pj(out_dir, gname, f\"{gname}_galfit_out_old.fits\")\n",
    "        if exists(pj(out_dir, gname, new_out)):\n",
    "            shutil.move(new_out, old_out)\n",
    "\n",
    "    kwargs_main = {\"cwd\"          : cwd,\n",
    "                   \"in_dir\"       : in_dir,\n",
    "                   \"tmp_dir\"      : tmp_dir,\n",
    "                   \"out_dir\"      : out_dir,\n",
    "                   \"num_steps\"    : num_steps,\n",
    "                   \"rerun\"        : rerun,\n",
    "                   \"galaxy_names\" : galaxy_names\n",
    "                  }\n",
    "    \n",
    "#    raise(AssertionError())\n",
    "    # One at a time\n",
    "    if slurm:\n",
    "        slurm_file = \"slurm_cmd_file\"\n",
    "        write_to_slurm(cwd, kwargs_main, slurm_file = slurm_file)\n",
    "#         print(f\"Generating distrib-slurm input file in {cwd}: {slurm_file}\")\n",
    "#         with open(pj(cwd, slurm_file), \"w\") as scf:\n",
    "#             for gname in galaxy_names:\n",
    "#                 kwargs_main[\"galaxy_names\"] = gname\n",
    "                \n",
    "#                 cmd_str = \"\"\n",
    "#                 for k,v in kwargs_main.items():\n",
    "#                     cmd_str += f\"{k}={v} \"\n",
    "#                 # Good thing dictionaries retain order now, *whistles innocently*\n",
    "#                 scf.write(f\"{run_python} go_go_galfit.py {cmd_str}\\n\")\n",
    "        \n",
    "#         sp(f\"chmod a+x {slurm_file}\", capture_output = False)\n",
    "        \n",
    "        print(\"Running with slurm\")\n",
    "        slurm_run_name = \"GALFITTING\"\n",
    "        timeout = 5 # Minutes\n",
    "        slurm_run_cmd = f\"cat {slurm_file} | ~wayne/bin/distrib_slurm {slurm_run_name} -M all\"\n",
    "        sp(f\"{slurm_run_cmd} -t {timeout}\", capture_output = False)\n",
    "        \n",
    "        kwargs_main = check_galfit_out_hangups(galaxy_names, tmp_fits_dir, out_dir, kwargs_main)\n",
    "        \n",
    "        count = 2\n",
    "        while kwargs_main[\"galaxy_names\"] and count < 10:\n",
    "            print(\"Did not finish all galaxies, slurming again, increasing timeout...\")\n",
    "            write_to_slurm(cwd, kwargs_main, slurm_file = slurm_file)\n",
    "            \n",
    "            timeout *= count\n",
    "            sp(f\"{slurm_run_cmd} -t {timeout}\", capture_output = False)    \n",
    "            kwargs_main = check_galfit_out_hangups(galaxy_names, tmp_fits_dir, out_dir, kwargs_main)\n",
    "            count += 1\n",
    "            \n",
    "        #os.stat(\"file\").st_size == 0\n",
    "        #sp(f\"\")\n",
    "            \n",
    "#             run_galfit.main(cwd          = cwd,\n",
    "#                             in_dir       = in_dir,\n",
    "#                             tmp_dir      = tmp_dir,\n",
    "#                             out_dir      = out_dir,\n",
    "#                             num_steps    = num_steps,\n",
    "#                             rerun        = rerun,\n",
    "#                             galaxy_names = gname\n",
    "#                            )\n",
    "        \n",
    "    else:\n",
    "        failures = go_go_galfit.main(**kwargs_main, \n",
    "                                     run_galfit = run_galfit, \n",
    "                                     run_fitspng = run_fitspng, \n",
    "                                     run_python = run_python)\n",
    "        # TODO: Use failures for something later? Maybe write to a file?"
   ]
  },
  {
   "cell_type": "raw",
   "id": "45e03dbf-75b3-4ef2-bbea-60f4a7668834",
   "metadata": {
    "tags": []
   },
   "source": [
    "boom = \"\"\"Numerical Recipes run-time error...\n",
    "gaussj: Singular Matrix-1\n",
    "...now exiting to system...\n",
    "\n",
    "                 __/~*##$%@@@******~\\-__\n",
    "               /f=r/~_-~ _-_ --_.^-~--\\=b\\\n",
    "             4fF / */  .o  ._-__.__/~-. \\*R\\\n",
    "            /fF./  . /- /' /|/|  \\_  * *\\ *\\R\\\n",
    "           (iC.I+ '| - *-/00  |-  \\  )  ) )|RB\n",
    "           (I| (  [  / -|/^^\\ |   )  /_/ | *)B\n",
    "           (I(. \\ `` \\   \\m_m_|~__/ )_ .-~ F/\n",
    "            \\b\\\\=_.\\_b`-+-~x-_/ .. ,._/ , F/\n",
    "             ~\\_\\= =  =-*###%#x==-#  *=- =/\n",
    "                ~\\**U/~  | i i | ~~~\\===~\n",
    "                        | I I \\\\\n",
    "                       / // i\\ \\\\\n",
    "                  (   [ (( I@) )))  )\n",
    "                       \\_\\_VYVU_/\n",
    "                         || * |\n",
    "                        /* /I\\ *~~\\\n",
    "                      /~-/*  / \\ \\ ~~M~\\\n",
    "            ____----=~ // /WVW\\* \\|\\ ***===--___\n",
    "\n",
    "   Doh!  GALFIT crashed because at least one of the model parameters\n",
    "   is bad.  The most common causes are: effective radius too small/big,\n",
    "   component is too far outside of fitting region (also check fitting\n",
    "   region), model mag too faint, axis ratio too small, Sersic index\n",
    "   too small/big, Nuker powerlaw too small/big.  If frustrated or\n",
    "   problem should persist, email for help or report problem to:\n",
    "                     Chien.Y.Peng@gmail.com\"\"\""
   ]
  },
  {
   "cell_type": "markdown",
   "id": "2f9184c0-472c-4cbe-aa18-e8c32bcf31fb",
   "metadata": {
    "tags": []
   },
   "source": [
    "## Tidying Up in case anything is leftover"
   ]
  },
  {
   "cell_type": "code",
   "execution_count": null,
   "id": "03e22c03-3612-4661-8b37-6d29797695fe",
   "metadata": {},
   "outputs": [],
   "source": [
    "if __name__ == \"__main__\":\n",
    "    print(\"\\nDone! Cleaning up...\")\n",
    "    _ = sp(\"rm galfit.* fit.log\") # , capture_output = False)\n",
    "    _ = sp(\"rm *.png\") # , capture_output = False)\n",
    "    \n",
    "    # We use the negative of remove slurm because we want cleanup to be the default\n",
    "    if slurm and not dont_remove_slurm:\n",
    "        _ = sp(f\"rm -r \\\"$HOME/SLURM_turds/{slurm_run_name}\\\"\", capture_output = False)"
   ]
  },
  {
   "cell_type": "code",
   "execution_count": null,
   "id": "a335e33a-caf0-4571-80df-e43eda9a0ab4",
   "metadata": {
    "tags": []
   },
   "outputs": [
    {
     "name": "stdout",
     "output_type": "stream",
     "text": [
      "Converting control_script_debug.ipynb\n"
     ]
    }
   ],
   "source": [
    "if __name__ == \"__main__\":\n",
    "    if in_notebook():\n",
    "        export_to_py(\"control_script_debug\", output_filename = \"control_script.py\")"
   ]
  }
 ],
 "metadata": {
  "kernelspec": {
   "display_name": "Python 3 (ipykernel)",
   "language": "python",
   "name": "python3"
  },
  "language_info": {
   "codemirror_mode": {
    "name": "ipython",
    "version": 3
   },
   "file_extension": ".py",
   "mimetype": "text/x-python",
   "name": "python",
   "nbconvert_exporter": "python",
   "pygments_lexer": "ipython3",
   "version": "3.10.9"
  }
 },
 "nbformat": 4,
 "nbformat_minor": 5
}
