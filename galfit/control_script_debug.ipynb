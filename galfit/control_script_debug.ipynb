{
 "cells": [
  {
   "cell_type": "markdown",
   "id": "b74c8abe-15bb-4a67-ba56-ca8eeb720eac",
   "metadata": {},
   "source": [
    "**Author: Matthew Portman**\n",
    "\n",
    "**Date (Github date will likely be more accurate): 4/17/23**"
   ]
  },
  {
   "cell_type": "raw",
   "id": "e21f5446-3bdf-49e6-9702-2b064dfb21c1",
   "metadata": {},
   "source": [
    "# 1/26/21\n",
    "# New usage ---\n",
    "# Will default to running on top of sparc directory \n",
    "# unless otherwise specified\n",
    "# \n",
    "# Command line args\n",
    "#\n",
    "# -r, --rerun-galfit\n",
    "#\t\tRe-run GALFIT using the galfit.01 file\n",
    "#\n",
    "# -p, --path\n",
    "#\t\tSpecify path to Sparcfire's in/tmp/out directories in that order;\n",
    "#\t\te.g. '-p /home/sparcfire_in /home/sparcfire_tmp /home/sparcfire_out'\n",
    "#\n",
    "\n",
    "# Change log - 1/19/21 \n",
    "# Updated silent to catch everything\n",
    "# Updated call to feedme gen to include paths\n",
    "# Changed 'which' to 'type -P' which seems better\n",
    "# See note for files= and masks=\n",
    "\n",
    "# For controlling galfitting via sparcfire\n",
    "\n",
    "# ***************************************************************"
   ]
  },
  {
   "cell_type": "code",
   "execution_count": 125,
   "id": "a6ef73de-bec0-40d9-8389-b5016b67ffa6",
   "metadata": {
    "tags": []
   },
   "outputs": [],
   "source": [
    "from galfit_objects import *\n",
    "# This should give me numpy and pandas and whatnot\n",
    "# also gives this, from os.path import join as pj\n",
    "from sparc_to_galfit_feedme_gen import *\n",
    "import argparse\n",
    "import shutil\n",
    "\n",
    "from os.path import exists\n",
    "from IPython import get_ipython\n",
    "from subprocess import run"
   ]
  },
  {
   "cell_type": "code",
   "execution_count": 11,
   "id": "4884f0b7-d0ff-44e9-a849-d0628db00356",
   "metadata": {
    "tags": []
   },
   "outputs": [],
   "source": [
    "# For debugging purposes\n",
    "def in_notebook():\n",
    "    ip = get_ipython()\n",
    "    \n",
    "    if ip:\n",
    "        return True\n",
    "    else:\n",
    "        return False"
   ]
  },
  {
   "cell_type": "code",
   "execution_count": 123,
   "id": "debf2e87-9b1f-4fc4-bbb6-5c333b4eb022",
   "metadata": {
    "tags": []
   },
   "outputs": [],
   "source": [
    "def sp(cmd_str, capture_output = True):\n",
    "    # Because it is a pain in the butt to call subprocess with all those commands every time\n",
    "    return run(cmd_str, capture_output = capture_output, text = True, shell = True, executable=\"/bin/bash\")"
   ]
  },
  {
   "cell_type": "code",
   "execution_count": 153,
   "id": "32377d52-fa4f-467a-b40b-3d56e5b5cec2",
   "metadata": {
    "tags": []
   },
   "outputs": [],
   "source": [
    "if __name__ == \"__main__\":\n",
    "    \n",
    "    # Force >python 3.6 for various compatabilities\n",
    "    out_str = \"\\t Python3.6 or greater required! Exitting without generating feedmes...\"\n",
    "    assert sys.version_info >= (3, 6), out_str\n",
    "    \n",
    "    user_home = os.environ[\"HOME\"]\n",
    "    cwd = os.getcwd() # Doesn't work *in* notebook\n",
    "    username = os.environ[\"USER\"]\n",
    "    \n",
    "    USAGE = f\"\"\"USAGE:\n",
    "\n",
    "    python3 ./{sys.argv[0]} [-S|--slurm] [-R|--rerun-galfit] IN-DIRECTORY TMP-DIRECTORY OUT-DIRECTORY\n",
    "\n",
    "    This script is the wrapping script for running GALFIT using SpArcFiRe to inform \n",
    "    the input. By default, it runs from the directory it is called and checks for the\n",
    "    existence (verbatim) of the 'sparcfire-in' 'sparcfire-tmp' and 'sparcfire-out' \n",
    "    directories in the current directory. If this is not the case, it will fail and exit. \n",
    "\n",
    "    You may specify a different in, tmp, and out directory using the '-p' option. Please\n",
    "    do not specify a symlink, it discomforts the programmer.\n",
    "    \"\"\"\n",
    "    \n",
    "    parser = argparse.ArgumentParser(description = USAGE)\n",
    "    \n",
    "    # TODO: invert this to running without slurm for when it comes time for the big runs\n",
    "    parser.add_argument('-S', '--slurm',\n",
    "                        dest     = 'slurm', \n",
    "                        type     = bool, \n",
    "                        help     = 'Run GALFITs using Slurm.')\n",
    "    \n",
    "    parser.add_argument('-ns', '--num-steps',\n",
    "                        dest     = 'steps', \n",
    "                        action   = 'store', \n",
    "                        help     = 'Run GALFIT using step-by-step component selection (up to 3), i.e. \\n \\\n",
    "                                    1: Bulge + Disk + Arms,\\n \\\n",
    "                                    2: Bulge -> Bulge + Disk + Arms,\\n \\\n",
    "                                    3: Bulge -> Bulge + Disk -> Bulge + Disk + Arms'\n",
    "                       )\n",
    "    \n",
    "    parser.add_argument('-R', '--rerun-galfit',\n",
    "                        dest     = 'rerun', \n",
    "                        type     = bool, \n",
    "                        help     = 'Run GALFIT again after a successful fit to refine said fit.')\n",
    "    \n",
    "    parser.add_argument(dest     = 'paths',\n",
    "                        nargs    = \"*\",\n",
    "                        type     = str,\n",
    "                        help     = \"IN-DIRECTORY TMP-DIRECTORY OUT-DIRECTORY from SpArcFiRe. \\\n",
    "                                    Must follow -in, -tmp, out or this won't work.\")\n",
    "    \n",
    "    if not in_notebook():\n",
    "        args = parser.parse_args() # Using vars(args) will call produce the args as a dict\n",
    "        num_steps = args.steps\n",
    "        if num_steps not in range(1,4):\n",
    "            print(\"The number of steps you selected cannot be used!\")\n",
    "            print(\"Using two.\")\n",
    "            num_steps = 2\n",
    "\n",
    "        if len(args.paths) == 3:\n",
    "            in_dir, tmp_dir, out_dir = args.paths[0], args.paths[1], args.paths[2]\n",
    "        else:\n",
    "            in_dir = pj(cwd, \"sparcfire-in\")\n",
    "            tmp_dir = pj(cwd, \"sparcfire-tmp\")\n",
    "            out_dir = pj(cwd, \"sparcfire-out\")\n",
    "\n",
    "            print(f\"Paths incorrectly specified, defaulting to (in, tmp, out)...\")\n",
    "            print(f\"{in_dir}\\n{tmp_dir}\\n{out_dir}\")\n",
    "            \n",
    "    else:\n",
    "        cwd = cwd.replace(\"ics-home\", username)\n",
    "        in_dir = pj(cwd, \"sparcfire-in\")\n",
    "        tmp_dir = pj(cwd, \"sparcfire-tmp\")\n",
    "        out_dir = pj(cwd, \"sparcfire-out\")\n",
    "        \n",
    "        sys.path.append(pj(user_home, \".local\", \"bin\"))"
   ]
  },
  {
   "cell_type": "markdown",
   "id": "91ba02eb-ebf9-4e0a-97ed-6d8df59162a0",
   "metadata": {},
   "source": [
    "## Checking file directories and installed programs"
   ]
  },
  {
   "cell_type": "code",
   "execution_count": 135,
   "id": "05d01744-c99d-4e70-b1ae-04a5545df77b",
   "metadata": {
    "tags": []
   },
   "outputs": [],
   "source": [
    "if __name__ == \"__main__\":\n",
    "    # Checking dirs\n",
    "    assert all((exists(in_dir), exists(tmp_dir), exists(out_dir))), \\\n",
    "           f\"Cannot find one of: in, tmp, or out directories:\\n{in_dir}\\n{tmp_dir}\\n{out_dir}\\n\" \\\n",
    "           \"Do those look right?\"\n",
    "    \n",
    "    # to redirect stderr to /dev/null as well:\n",
    "    #subprocess.run(['ls', '-l'], stderr=subprocess.DEVNULL)\n",
    "    \n",
    "    if not in_notebook():\n",
    "        # This seems to work in Python directly so I'm leaving it as-is\n",
    "        # Checking galfit\n",
    "        run_galfit = shutil.which(\"galfit\")\n",
    "        #run_galfit = response.stdout.strip()\n",
    "        \n",
    "        # Checking fitspng\n",
    "        run_fitspng = shutil.which(\"fitspng\")\n",
    "        fitspng_param = \"0.25,1\" #1,150\"\n",
    "\n",
    "    else:\n",
    "        run_galfit = pj(home_dir, \".local/bin/galfit\")\n",
    "        run_fitspng = pj(home_dir, \".local/bin/fitspng\")"
   ]
  },
  {
   "cell_type": "markdown",
   "id": "46afa543-182b-4f70-abc1-7512ab09e291",
   "metadata": {},
   "source": [
    "## Setting up directories and handy variables"
   ]
  },
  {
   "cell_type": "code",
   "execution_count": 136,
   "id": "53cf5af5-a0af-4fd6-b86d-fc6805b443eb",
   "metadata": {
    "tags": []
   },
   "outputs": [],
   "source": [
    "if __name__ == \"__main__\":\n",
    "    # Setting up paths and variables\n",
    "    tmp_galfits = pj(tmp_dir, \"galfits\")\n",
    "    tmp_masks   = pj(tmp_dir, \"galfit_masks\")\n",
    "    tmp_psf     = pj(tmp_dir, \"psf_files\")\n",
    "    tmp_png     = pj(tmp_dir, \"galfit_png\")\n",
    "    \n",
    "    all_galfit_out = pj(out_dir, \"all_galfit_out\")\n",
    "    out_png        = pj(out_galfit, \"galfit_png\")\n",
    "    \n",
    "    # Remove old\n",
    "    try:\n",
    "        shutil.rmtree(tmp_galfits)\n",
    "    except OSError as e:\n",
    "        pass\n",
    "    \n",
    "    # Making sub-directories\n",
    "    _ = [os.makedir(i) for i in (tmp_galfits, tmp_masks, tmp_psf) if not exists(i)]\n",
    "    \n",
    "    # makedirs will make both at once, handy!\n",
    "    if not exists(out_png): os.makedirs(out_png)"
   ]
  },
  {
   "cell_type": "markdown",
   "id": "4d674546-203d-45cd-b454-c36b07410c97",
   "metadata": {
    "tags": []
   },
   "source": [
    "## Running feedme gen and sextractor (if necessary)"
   ]
  },
  {
   "cell_type": "code",
   "execution_count": 137,
   "id": "2c44e832-54ad-4892-be51-6625bb525ce5",
   "metadata": {
    "tags": []
   },
   "outputs": [
    {
     "name": "stdout",
     "output_type": "stream",
     "text": [
      "Running feedme generator...\n",
      "Star masks have already been generated, proceeding.\n"
     ]
    }
   ],
   "source": [
    "if __name__ == \"__main__\":\n",
    "    print(\"Running feedme generator...\")\n",
    "    #feedme_info = write_to_feedmes(top_dir = cwd)\n",
    "    \n",
    "    # Grabbing list of file names and masks with bash variable expansion\n",
    "    input_filenames = glob.glob(pj(in_dir, \"*.fits\"))\n",
    "    star_masks      = glob.glob(pj(tmp_masks, \"*_star-rm.fits\"))\n",
    "    \n",
    "    if len(input_filenames) != len(star_masks):\n",
    "        sp(f\"python3 remove_stars_with_sextractor.py {in_dir} {tmp_masks}\")\n",
    "    else:\n",
    "        print(\"Star masks have already been generated, proceeding.\")"
   ]
  },
  {
   "cell_type": "markdown",
   "id": "f3ea68dc-0ec7-495d-8a93-1bfe6025a2ef",
   "metadata": {
    "tags": []
   },
   "source": [
    "## Galfitting/preparing for slurm!"
   ]
  },
  {
   "cell_type": "code",
   "execution_count": 161,
   "id": "df2ae459-3e50-403b-8cf2-1a105e7a897a",
   "metadata": {
    "tags": []
   },
   "outputs": [],
   "source": [
    "def check_update(log_out, galfit_num, components, rerun = False):\n",
    "    \n",
    "    if exists(f\"galfit.{galfit_num}\"):\n",
    "        final_model = out_text.split(\"Iteration\")[-1]\n",
    "\n",
    "        # bulge, disk, arms, fourier, sky\n",
    "        components = update_components(final_model, \n",
    "                                       *components)\n",
    "        \n",
    "        galfit_num = f\"{int(galfit_num) + 1:0>2}\"\n",
    "        \n",
    "        if rerun:\n",
    "            run_galfit_cmd = f\"{run_galfit} -imax {max_it} galfit.{galfit_num}\"\n",
    "            galfit_num = f\"{int(galfit_num) + 1:0>2}\"\n",
    "            # sp(run_galfit_cmd)\n",
    "            \n",
    "    else:\n",
    "        print(f\"Galfit failed the {galfit_num} go! Maybe try something different?\")\n",
    "        \n",
    "    \n",
    "    return components, galfit_num"
   ]
  },
  {
   "cell_type": "code",
   "execution_count": 155,
   "id": "1edc1c3c-bade-4165-a833-3d0fea95535c",
   "metadata": {
    "tags": []
   },
   "outputs": [
    {
     "ename": "SyntaxError",
     "evalue": "f-string: unmatched '[' (1117307494.py, line 24)",
     "output_type": "error",
     "traceback": [
      "\u001b[0;36m  Cell \u001b[0;32mIn[155], line 24\u001b[0;36m\u001b[0m\n\u001b[0;31m    run_galfit_cmd = f\"{run_galfit} -imax {max_it} {feedme_info[gname][\"path\"]}\"\u001b[0m\n\u001b[0m                                                                        ^\u001b[0m\n\u001b[0;31mSyntaxError\u001b[0m\u001b[0;31m:\u001b[0m f-string: unmatched '['\n"
     ]
    }
   ],
   "source": [
    "if __name__ == \"__main__\":\n",
    "    galaxy_names = [os.path.basename(i).rstrip(\".fits\") \n",
    "                    for i in input_filenames]\n",
    "    #out_dirs = [os.path.abspath(i).replace(\"-in\", \"-out\").rstrip(\".fits\") \n",
    "    #            for i in input_filenames]\n",
    "    \n",
    "    max_it = 150\n",
    "    \n",
    "    # Working on non-slurm for now\n",
    "    for gname in galaxy_names:\n",
    "        \n",
    "        # This doesn't change\n",
    "        header  = feedme_info[gname][\"header\"]\n",
    "        \n",
    "        # These get *really* updated\n",
    "        bulge   = feedme_info[gname][\"bulge\"]\n",
    "        disk    = feedme_info[gname][\"disk\"]\n",
    "        arms    = feedme_info[gname][\"arms\"]\n",
    "        fourier = feedme_info[gname][\"fourier\"]\n",
    "        sky     = feedme_info[gname][\"sky\"]\n",
    "        components = (bulge, disk, arms, fourier, sky)\n",
    "        \n",
    "        if num_steps == 1:\n",
    "            run_galfit_cmd = f\"{run_galfit} -imax {max_it} {feedme_info[gname][\"path\"]}\"\n",
    "            #sp(run_galfit_cmd, capture_output = False)\n",
    "            \n",
    "        # Todo: how to get this to play nice with slurm?\n",
    "        elif num_steps >= 2:\n",
    "            bulge_in = pj(out_dir, gname, f\"{gname}_bulge.in\")\n",
    "            header.to_file(bulge_in, bulge, sky)\n",
    "            \n",
    "            run_galfit_cmd = f\"{run_galfit} -imax {max_it} {bulge_in}\"\n",
    "            #out_text = sp(run_galfit_cmd)\n",
    "            \n",
    "            # For now(?) force rerun false\n",
    "            galfit_num = \"01\"\n",
    "            components, galfit_num = check_update(out_text, galfit_num, components, rerun = False)\n",
    "            \n",
    "            if num_steps == 3:\n",
    "                disk_in = pj(out_dir, gname, f\"{gname}_disk.in\")\n",
    "                header.to_file(disk_in, bulge, disk, sky)\n",
    "                \n",
    "                run_galfit_cmd = f\"{run_galfit} -imax {max_it} {disk_in}\"\n",
    "                #out_text = sp(run_galfit_cmd)\n",
    "                \n",
    "                components, galfit_num = check_update(out_text, galfit_num, components, rerun = False)\n",
    "                \n",
    "\n",
    "            # Overwrite original... for now \n",
    "            header.to_file(f\"{feedme_info[gname][\"path\"]}\", *components)\n",
    "            #sp(run_galfit_cmd, capture_output = False)\n",
    "        \n",
    "        tmp_png_path  = pj(tmp_png, gname)\n",
    "        tmp_fits_path = pj(tmp_galfits, gname)\n",
    "        \n",
    "        fitspng_cmd1 = f\"{run_fitspng} -fr \\\"{fitspng_param}\\\" -o \\\n",
    "                        {tmp_png_path}.png {tmp_fits_path}.fits[1]\"\n",
    "        fitspng_cmd2 = f\"{run_fitspng} -fr \\\"{fitspng_param}\\\" -o \\\n",
    "                        {tmp_png_path}_out.png {tmp_fits_path}.fits[2]\"\n",
    "        fitspng_cmd3 = f\"{run_fitspng} -fr \\\"{fitspng_param}\\\" -o \\\n",
    "                        {tmp_png_path}_residual.png {tmp_fits_path}.fits[3]\"\n",
    "        \n",
    "        #sp(fitspng_cmd1)\n",
    "        #sp(fitspng_cmd2)\n",
    "        #sp(fitspng_cmd3)\n",
    "        \n",
    "        # Combining the images using ImageMagick\n",
    "        montage_cmd = f\"montage {out_png_path}.png \\\n",
    "                                {out_png_path}_out.png \\\n",
    "                                {out_png_path}_residual.png \\\n",
    "                                -tile 3x1 -geometry \\\"175x175+2+0<\\\" \\\n",
    "                                {pj(out_png, gname)}_combined.png\"\n",
    "        \n",
    "        for galfit_out in glob.glob(pj(cwd, \"galfit.*\")):\n",
    "            ext_num = galfit_out.split(\".\")[-1]\n",
    "            shutil.move(galfit_out, pj(out_dir, f\"{gname}_galfit.{ext_num}\"))\n",
    "        \n",
    "        shutil.copy2(pj(tmp_galfits, f\"{gname}_out.fits\"), pj(out_dir, gname))"
   ]
  },
  {
   "cell_type": "code",
   "execution_count": 122,
   "id": "62a3b897-e7fa-40c5-ba49-6f52e1451657",
   "metadata": {
    "tags": []
   },
   "outputs": [],
   "source": [
    "## Copy all files from tmp dir to all_out"
   ]
  }
 ],
 "metadata": {
  "kernelspec": {
   "display_name": "Python 3 (ipykernel)",
   "language": "python",
   "name": "python3"
  },
  "language_info": {
   "codemirror_mode": {
    "name": "ipython",
    "version": 3
   },
   "file_extension": ".py",
   "mimetype": "text/x-python",
   "name": "python",
   "nbconvert_exporter": "python",
   "pygments_lexer": "ipython3",
   "version": "3.10.9"
  }
 },
 "nbformat": 4,
 "nbformat_minor": 5
}
